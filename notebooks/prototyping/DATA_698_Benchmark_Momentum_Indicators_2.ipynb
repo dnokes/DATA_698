{
 "cells": [
  {
   "cell_type": "code",
   "execution_count": 81,
   "metadata": {},
   "outputs": [],
   "source": [
    "import numpy as np\n",
    "import math\n",
    "import pandas as pd\n",
    "\n",
    "from numba import jit, prange\n",
    "\n",
    "import timeit\n",
    "from timeit import default_timer as timer\n",
    "import dask"
   ]
  },
  {
   "cell_type": "code",
   "execution_count": 3,
   "metadata": {},
   "outputs": [],
   "source": [
    "%matplotlib inline"
   ]
  },
  {
   "cell_type": "code",
   "execution_count": 4,
   "metadata": {},
   "outputs": [],
   "source": [
    "def assetPathsCPU(S0,mu,sigma,T,nRows,nPaths):\n",
    "    dt = T/nRows\n",
    "    nudt = (mu-0.5*sigma**2)*dt    \n",
    "    sidt = sigma*math.sqrt(dt)\n",
    "    increments = nudt + sidt*np.random.randn(int(nRows),int(nPaths))\n",
    "    x=np.concatenate((math.log(S0)*np.ones((1,int(nPaths))),increments))\n",
    "    pricePaths=np.exp(np.cumsum(x,axis=0))\n",
    "\n",
    "    return pricePaths\n"
   ]
  },
  {
   "cell_type": "code",
   "execution_count": 5,
   "metadata": {},
   "outputs": [
    {
     "name": "stdout",
     "output_type": "stream",
     "text": [
      "1.27 s ± 5.17 ms per loop (mean ± std. dev. of 7 runs, 1 loop each)\n"
     ]
    }
   ],
   "source": [
    "%%timeit\n",
    "\n",
    "nRows=252*10\n",
    "nPaths=10000\n",
    "# define parameters\n",
    "S0 = 100.0\n",
    "T = 10.0\n",
    "mu = 0.1\n",
    "sigma = 0.1\n",
    "# simulate price paths\n",
    "assetPathsCPU(S0,mu,sigma,T,nRows,nPaths)\n"
   ]
  },
  {
   "cell_type": "code",
   "execution_count": 6,
   "metadata": {},
   "outputs": [],
   "source": [
    "# define simulation parameters\n",
    "nRows=252*10\n",
    "nPaths=1000\n",
    "# define parameters\n",
    "S0 = 100.0\n",
    "T = 10.0\n",
    "mu = 0.1\n",
    "sigma = 0.1\n",
    "# simulate price paths\n",
    "pricePathsCPU=assetPathsCPU(S0,mu,sigma,T,nRows,nPaths)\n"
   ]
  },
  {
   "cell_type": "code",
   "execution_count": 7,
   "metadata": {},
   "outputs": [],
   "source": [
    "df=pd.DataFrame(pricePathsCPU)"
   ]
  },
  {
   "cell_type": "markdown",
   "metadata": {},
   "source": [
    "Classical momentum computes growth "
   ]
  },
  {
   "cell_type": "code",
   "execution_count": 8,
   "metadata": {},
   "outputs": [],
   "source": [
    "x=np.arange(0,10)\n"
   ]
  },
  {
   "cell_type": "code",
   "execution_count": 9,
   "metadata": {},
   "outputs": [
    {
     "data": {
      "text/plain": [
       "array([0, 1, 2, 3, 4, 5, 6, 7, 8, 9])"
      ]
     },
     "execution_count": 9,
     "metadata": {},
     "output_type": "execute_result"
    }
   ],
   "source": [
    "x"
   ]
  },
  {
   "cell_type": "code",
   "execution_count": 10,
   "metadata": {},
   "outputs": [
    {
     "data": {
      "text/plain": [
       "0"
      ]
     },
     "execution_count": 10,
     "metadata": {},
     "output_type": "execute_result"
    }
   ],
   "source": [
    "x[0]\n"
   ]
  },
  {
   "cell_type": "code",
   "execution_count": 11,
   "metadata": {},
   "outputs": [
    {
     "data": {
      "text/plain": [
       "9"
      ]
     },
     "execution_count": 11,
     "metadata": {},
     "output_type": "execute_result"
    }
   ],
   "source": [
    "x[-1]\n"
   ]
  },
  {
   "cell_type": "code",
   "execution_count": 12,
   "metadata": {},
   "outputs": [],
   "source": [
    "def linregressCPU(x, y):\n",
    "\n",
    "    TINY = 1.0e-20\n",
    "\n",
    "    x = np.asarray(x)\n",
    "    y = np.asarray(y)\n",
    "\n",
    "    n = len(x)\n",
    "    xmean = np.mean(x)\n",
    "    ymean = np.mean(y)\n",
    "\n",
    "    # average sum of squares:\n",
    "    ssxm, ssxym, ssyxm, ssym = np.cov(x, y, bias=1).flat\n",
    "    r_num = ssxym\n",
    "    r_den = np.sqrt(ssxm * ssym)\n",
    "    if r_den == 0.0:\n",
    "        r = 0.0\n",
    "    else:\n",
    "        r = r_num / r_den\n",
    "        # test for numerical error propagation\n",
    "        if r > 1.0:\n",
    "            r = 1.0\n",
    "        elif r < -1.0:\n",
    "            r = -1.0\n",
    "\n",
    "    df = n - 2\n",
    "    slope = r_num / ssxm\n",
    "    intercept = ymean - slope*xmean\n",
    "    if n == 2:\n",
    "        sterrest = 0.0\n",
    "    else:\n",
    "        t = r * np.sqrt(df / ((1.0 - r + TINY)*(1.0 + r + TINY)))\n",
    "        sterrest = np.sqrt((1 - r**2) * ssym / ssxm / df)\n",
    "\n",
    "    return (slope, intercept, r, sterrest)\n"
   ]
  },
  {
   "cell_type": "code",
   "execution_count": 55,
   "metadata": {},
   "outputs": [],
   "source": [
    "@jit(nopython=True)\n",
    "def linregressNumba(x, y):\n",
    "\n",
    "    TINY = 1.0e-20\n",
    "\n",
    "    x = np.asarray(x)\n",
    "    y = np.asarray(y)\n",
    "\n",
    "    n = len(x)\n",
    "    xmean = np.mean(x)\n",
    "    ymean = np.mean(y)\n",
    "\n",
    "    # average sum of squares:\n",
    "    ssxm, ssxym, ssyxm, ssym = np.cov(x, y, bias=1).flat\n",
    "    r_num = ssxym\n",
    "    r_den = np.sqrt(ssxm * ssym)\n",
    "    if r_den == 0.0:\n",
    "        r = 0.0\n",
    "    else:\n",
    "        r = r_num / r_den\n",
    "        # test for numerical error propagation\n",
    "        if r > 1.0:\n",
    "            r = 1.0\n",
    "        elif r < -1.0:\n",
    "            r = -1.0\n",
    "\n",
    "    df = n - 2\n",
    "    slope = r_num / ssxm\n",
    "    intercept = ymean - slope*xmean\n",
    "    if n == 2:\n",
    "        sterrest = 0.0\n",
    "    else:\n",
    "        t = r * np.sqrt(df / ((1.0 - r + TINY)*(1.0 + r + TINY)))\n",
    "        sterrest = np.sqrt((1 - r**2) * ssym / ssxm / df)\n",
    "\n",
    "    return (slope, intercept, r, sterrest)\n"
   ]
  },
  {
   "cell_type": "code",
   "execution_count": 13,
   "metadata": {},
   "outputs": [],
   "source": [
    "# compute classical price momentum\n",
    "def price2ClassicalMomentum(y):    \n",
    "    return ((1+((np.log(y[-1])-np.log(y[0]))/len(y)))**252.0)-1"
   ]
  },
  {
   "cell_type": "code",
   "execution_count": 14,
   "metadata": {},
   "outputs": [],
   "source": [
    "@jit(nopython=True)\n",
    "# compute classical price momentum\n",
    "def price2ClassicalMomentumNumba(y):    \n",
    "    return ((1+((np.log(y[-1])-np.log(y[0]))/len(y)))**252.0)-1\n"
   ]
  },
  {
   "cell_type": "code",
   "execution_count": 15,
   "metadata": {},
   "outputs": [],
   "source": [
    "# compute price momentum\n",
    "def price2momentum(y):\n",
    "    x=np.arange(0,len(y))\n",
    "    slope, intercept, r_value, sterrest = linregressCPU(x,\n",
    "        np.log(y))\n",
    "    # adjust the momentum for smoothness and annualize\n",
    "    momentum=(((1+slope)**252.0)-1)*(r_value**2.0)\n",
    "    return momentum\n"
   ]
  },
  {
   "cell_type": "code",
   "execution_count": 56,
   "metadata": {},
   "outputs": [],
   "source": [
    "@jit(nopython=True)\n",
    "# compute price momentum\n",
    "def price2momentumNumba(y):\n",
    "    x=np.arange(0,len(y))\n",
    "    slope, intercept, r_value, sterrest = linregressNumba(x,\n",
    "        np.log(y))\n",
    "    # adjust the momentum for smoothness and annualize\n",
    "    momentum=(((1+slope)**252.0)-1)*(r_value**2.0)\n",
    "    return momentum\n"
   ]
  },
  {
   "cell_type": "code",
   "execution_count": 69,
   "metadata": {},
   "outputs": [],
   "source": [
    "# classical momentum\n",
    "def classicalMomentumPathsNumpy(pricePaths,lookback):\n",
    "    # find T and nPaths\n",
    "    T,nPaths=pricePaths.shape\n",
    "    # create output array\n",
    "    momentumPaths=np.zeros([T,nPaths])\n",
    "    # iterate over each price path\n",
    "    for pathIndex in range(0,nPaths):\n",
    "        # iterate over each point in time and compute the EMA \n",
    "        for t in range(1,T):\n",
    "            if t>=lookback:\n",
    "                momentumPaths[t,pathIndex]=((1+((np.log(pricePaths[t,\n",
    "                    pathIndex])-np.log(pricePaths[t-lookback,\n",
    "                    pathIndex]))/lookback))**252)-1\n",
    "\n",
    "    return momentumPaths\n"
   ]
  },
  {
   "cell_type": "code",
   "execution_count": 70,
   "metadata": {},
   "outputs": [],
   "source": [
    "@jit(nopython=True)\n",
    "# classical momentum\n",
    "def classicalMomentumPathsNumba(pricePaths,lookback):\n",
    "    # find T and nPaths\n",
    "    T,nPaths=pricePaths.shape\n",
    "    # create output array\n",
    "    momentumPaths=np.zeros_like(pricePaths)\n",
    "    # iterate over each price path\n",
    "    for pathIndex in range(0,nPaths):\n",
    "        # iterate over each point in time and compute the EMA \n",
    "        for t in range(1,T):\n",
    "            if t>=lookback:\n",
    "                momentumPaths[t,pathIndex]=((1+((np.log(pricePaths[t,\n",
    "                    pathIndex])-np.log(pricePaths[t-lookback,\n",
    "                    pathIndex]))/lookback))**252)-1\n",
    "\n",
    "    return momentumPaths\n"
   ]
  },
  {
   "cell_type": "code",
   "execution_count": 195,
   "metadata": {},
   "outputs": [],
   "source": [
    "@jit(nopython=True, parallel=True)\n",
    "# classical momentum\n",
    "def classicalMomentumPathsNumbaParallel(pricePaths,lookback):\n",
    "    # find T and nPaths\n",
    "    T,nPaths=pricePaths.shape\n",
    "    # create output array\n",
    "    momentumPaths=np.zeros_like(pricePaths)\n",
    "    # iterate over each price path\n",
    "    for pathIndex in prange(0,nPaths):\n",
    "        # iterate over each point in time and compute the EMA \n",
    "        for t in prange(1,T):\n",
    "            if t>=lookback:\n",
    "                momentumPaths[t,pathIndex]=((1+((np.log(pricePaths[t,\n",
    "                    pathIndex])-np.log(pricePaths[t-lookback,\n",
    "                    pathIndex]))/lookback))**252)-1\n",
    "\n",
    "    return momentumPaths\n"
   ]
  },
  {
   "cell_type": "code",
   "execution_count": null,
   "metadata": {},
   "outputs": [],
   "source": []
  },
  {
   "cell_type": "code",
   "execution_count": 85,
   "metadata": {},
   "outputs": [],
   "source": [
    "def emaPathsNumpy(pricePaths,lookback):\n",
    "    # find T and nPaths\n",
    "    T,nPaths=pricePaths.shape\n",
    "    # create output array\n",
    "    ema=np.zeros([T,nPaths])\n",
    "    # compute smoothing constant\n",
    "    a = 2.0 / ( lookback + 1.0 )\n",
    "    # iterate over each price path\n",
    "    for pathIndex in range(0,nPaths):\n",
    "        # iterate over each price path\n",
    "        ema[0,pathIndex] = pricePaths[0,pathIndex]\n",
    "        # iterate over each point in time and compute the EMA \n",
    "        for t in range(1,T):\n",
    "            ema[t,pathIndex]=a * (pricePaths[t,pathIndex]-ema[t-1,\n",
    "                pathIndex]) + ema[t-1,pathIndex]\n",
    "    return ema\n"
   ]
  },
  {
   "cell_type": "code",
   "execution_count": 86,
   "metadata": {},
   "outputs": [],
   "source": [
    "@jit(nopython=True)\n",
    "def emaPathsNumba(pricePaths,lookback):\n",
    "    # find T and nPaths\n",
    "    T,nPaths=pricePaths.shape\n",
    "    # create output array\n",
    "    #ema=np.zeros([T,nPaths])\n",
    "    ema=np.zeros_like(pricePaths)\n",
    "    # compute smoothing constant\n",
    "    a = 2.0 / ( lookback + 1.0 )\n",
    "    # iterate over each price path\n",
    "    for pathIndex in range(0,nPaths):\n",
    "        # iterate over each price path\n",
    "        ema[0,pathIndex] = pricePaths[0,pathIndex]\n",
    "        # iterate over each point in time and compute the EMA \n",
    "        for t in range(1,T):\n",
    "            ema[t,pathIndex]=a * (pricePaths[t,pathIndex]-ema[t-1,\n",
    "                pathIndex]) + ema[t-1,pathIndex]\n",
    "\n",
    "    return ema\n"
   ]
  },
  {
   "cell_type": "code",
   "execution_count": 87,
   "metadata": {},
   "outputs": [],
   "source": [
    "@jit(nopython=True, parallel=True)\n",
    "def emaPathsNumbaParallel(pricePaths,lookback):\n",
    "    # find T and nPaths\n",
    "    T,nPaths=pricePaths.shape\n",
    "    # create output array\n",
    "    #ema=np.zeros([T,nPaths])\n",
    "    ema=np.zeros_like(pricePaths)\n",
    "    # compute smoothing constant\n",
    "    a = 2.0 / ( lookback + 1.0 )\n",
    "    # iterate over each price path\n",
    "    for pathIndex in prange(0,nPaths):\n",
    "        # iterate over each price path\n",
    "        ema[0,pathIndex] = pricePaths[0,pathIndex]\n",
    "        # iterate over each point in time and compute the EMA \n",
    "        for t in prange(1,T):\n",
    "            ema[t,pathIndex]=a * (pricePaths[t,pathIndex]-ema[t-1,\n",
    "                pathIndex]) + ema[t-1,pathIndex]\n",
    "\n",
    "    return ema\n"
   ]
  },
  {
   "cell_type": "code",
   "execution_count": 99,
   "metadata": {},
   "outputs": [],
   "source": [
    "def priceMomentum2UniverseRelativeRankNumpy(momentum,nPositions):\n",
    "    # find T and number of instruments\n",
    "    T,nInstruments=momentum.shape\n",
    "\n",
    "    # create data frames to store results\n",
    "    momentumRank=np.zeros_like(momentum)\n",
    "    momentumFlag=np.zeros_like(momentum)\n",
    "    # iterate over each instant in time, t\n",
    "    for t in range(0,T):\n",
    "        # find sort index for momentum of each instrument in universe\n",
    "        momentumIndex=np.argsort(momentum[t,:]*-1,axis=0)\n",
    "        # based on sorted momentum, determine relative rank\n",
    "        momentumRank[t,momentumIndex]=np.arange(1,nInstruments+1)\n",
    "        # If the rank is less than target number of positions, then condition \n",
    "        # is met (i.e., stock is considered to have 'momentum') over defined \n",
    "        # lookback period\n",
    "        momentumFlag=momentumRank[t,:]<=nPositions\n",
    "    \n",
    "    return momentumRank,momentumFlag\n"
   ]
  },
  {
   "cell_type": "code",
   "execution_count": null,
   "metadata": {},
   "outputs": [],
   "source": [
    "indexTable = np.empty_like(finaltable)\n",
    "for j in range(indexTable.shape[1]):\n",
    "    indexTable[:, j] = np.argsort(finaltable[:, j])"
   ]
  },
  {
   "cell_type": "code",
   "execution_count": 187,
   "metadata": {},
   "outputs": [],
   "source": [
    "@jit(nopython=True)\n",
    "def priceMomentum2UniverseRelativeRankNumba(momentum,nPositions):\n",
    "    # find T and number of instruments\n",
    "    T,nInstruments=momentum.shape\n",
    "\n",
    "    # create data frames to store results\n",
    "    #momentumRank=np.empty_like(momentum,'int')\n",
    "    momentumRank=np.empty_like(momentum)\n",
    "    momentumFlag=np.zeros_like(momentum)\n",
    "    # iterate over each instant in time, t\n",
    "    for t in range(0,T):\n",
    "        # find sort index for momentum of each instrument in universe\n",
    "        momentumIndex=np.argsort(momentum[t,:]*-1.0)\n",
    "        # based on sorted momentum, determine relative rank\n",
    "        momentumRank[t,momentumIndex]=np.arange(nInstruments)+1.0\n",
    "        # If the rank is less than target number of positions, then condition \n",
    "        # is met (i.e., stock is considered to have 'momentum') over defined \n",
    "        # lookback period\n",
    "        #momentumFlag=momentumRank[t,:]<=nPositions\n",
    "    \n",
    "    return momentumRank #,momentumFlag\n"
   ]
  },
  {
   "cell_type": "code",
   "execution_count": 106,
   "metadata": {},
   "outputs": [],
   "source": [
    "@jit(nopython=True, parallel=True)\n",
    "def priceMomentum2UniverseRelativeRankNumbaParallel(momentum,nPositions):\n",
    "    # find T and number of instruments\n",
    "    T,nInstruments=momentum.shape\n",
    "    # create array to store results\n",
    "    momentumRank=np.zeros_like(momentum)\n",
    "    momentumFlag=np.zeros_like(momentum)\n",
    "    # iterate over each instant in time, t\n",
    "    for t in prange(0,T):\n",
    "        # find sort index for momentum of each instrument in universe\n",
    "        momentumIndex=np.argsort(momentum[t,:]*-1,axis=0)\n",
    "        # based on sorted momentum, determine relative rank\n",
    "        momentumRank[t,momentumIndex]=np.arange(nInstruments)+1\n",
    "        # If the rank is less than target number of positions, then condition \n",
    "        # is met (i.e., stock is considered to have 'momentum') over defined \n",
    "        # lookback period\n",
    "        momentumFlag=momentumRank[t,:]<=nPositions\n",
    "    \n",
    "    return momentumRank,momentumFlag\n"
   ]
  },
  {
   "cell_type": "code",
   "execution_count": 65,
   "metadata": {},
   "outputs": [],
   "source": [
    "# apply price gap filter\n",
    "def priceGapFilter(y):\n",
    "    # set gap filter\n",
    "    threshold=0.15\n",
    "    # find gap flag\n",
    "    gapFlag=np.max(np.abs(np.diff(np.log(y))))>=threshold\n",
    "\n",
    "    return gapFlag\n"
   ]
  },
  {
   "cell_type": "code",
   "execution_count": 66,
   "metadata": {},
   "outputs": [],
   "source": [
    "@jit(nopython=True)\n",
    "# apply price gap filter\n",
    "def priceGapFilterNumba(y):\n",
    "    # set gap filter\n",
    "    threshold=0.15\n",
    "    # find gap flag\n",
    "    gapFlag=np.max(np.abs(np.diff(np.log(y))))>=threshold\n",
    "\n",
    "    return gapFlag\n"
   ]
  },
  {
   "cell_type": "code",
   "execution_count": 17,
   "metadata": {},
   "outputs": [
    {
     "data": {
      "text/plain": [
       "1.0003782865315343"
      ]
     },
     "execution_count": 17,
     "metadata": {},
     "output_type": "execute_result"
    }
   ],
   "source": [
    "hpr=1.1**(1.0/252.0)\n",
    "#y=np.ones(252)*growth\n",
    "hpr"
   ]
  },
  {
   "cell_type": "code",
   "execution_count": 18,
   "metadata": {},
   "outputs": [
    {
     "data": {
      "text/plain": [
       "1.1000000000000063"
      ]
     },
     "execution_count": 18,
     "metadata": {},
     "output_type": "execute_result"
    }
   ],
   "source": [
    "hpr**252.0"
   ]
  },
  {
   "cell_type": "code",
   "execution_count": 19,
   "metadata": {},
   "outputs": [
    {
     "data": {
      "text/plain": [
       "0.0003782149992235343"
      ]
     },
     "execution_count": 19,
     "metadata": {},
     "output_type": "execute_result"
    }
   ],
   "source": [
    "np.log(hpr)"
   ]
  },
  {
   "cell_type": "code",
   "execution_count": 20,
   "metadata": {},
   "outputs": [],
   "source": [
    "y=np.exp(np.cumsum(np.ones(2520)*np.log(hpr)))"
   ]
  },
  {
   "cell_type": "code",
   "execution_count": 21,
   "metadata": {},
   "outputs": [],
   "source": [
    "yy=y[0:90]"
   ]
  },
  {
   "cell_type": "code",
   "execution_count": 22,
   "metadata": {},
   "outputs": [
    {
     "data": {
      "text/plain": [
       "90"
      ]
     },
     "execution_count": 22,
     "metadata": {},
     "output_type": "execute_result"
    }
   ],
   "source": [
    "len(yy)"
   ]
  },
  {
   "cell_type": "code",
   "execution_count": 23,
   "metadata": {},
   "outputs": [
    {
     "data": {
      "text/plain": [
       "0.09881635180021897"
      ]
     },
     "execution_count": 23,
     "metadata": {},
     "output_type": "execute_result"
    }
   ],
   "source": [
    "((1+((np.log(yy[-1])-np.log(yy[0]))/len(yy)))**252.0)-1"
   ]
  },
  {
   "cell_type": "code",
   "execution_count": 24,
   "metadata": {},
   "outputs": [],
   "source": [
    "x=np.arange(0,len(yy))\n",
    "slope, intercept, r_value, sterrest = linregressCPU(x,np.log(yy))\n",
    "# adjust the momentum for smoothness and annualize\n",
    "momentum=(((1+slope)**252.0)-1)*(r_value**2.0)"
   ]
  },
  {
   "cell_type": "code",
   "execution_count": 25,
   "metadata": {},
   "outputs": [
    {
     "data": {
      "text/plain": [
       "1.0"
      ]
     },
     "execution_count": 25,
     "metadata": {},
     "output_type": "execute_result"
    }
   ],
   "source": [
    "r_value"
   ]
  },
  {
   "cell_type": "code",
   "execution_count": 26,
   "metadata": {},
   "outputs": [
    {
     "data": {
      "text/plain": [
       "0.09998017891945699"
      ]
     },
     "execution_count": 26,
     "metadata": {},
     "output_type": "execute_result"
    }
   ],
   "source": [
    "momentum"
   ]
  },
  {
   "cell_type": "code",
   "execution_count": 27,
   "metadata": {},
   "outputs": [],
   "source": [
    "trendDf=pd.DataFrame(y)"
   ]
  },
  {
   "cell_type": "code",
   "execution_count": 28,
   "metadata": {},
   "outputs": [
    {
     "data": {
      "text/html": [
       "<div>\n",
       "<style scoped>\n",
       "    .dataframe tbody tr th:only-of-type {\n",
       "        vertical-align: middle;\n",
       "    }\n",
       "\n",
       "    .dataframe tbody tr th {\n",
       "        vertical-align: top;\n",
       "    }\n",
       "\n",
       "    .dataframe thead th {\n",
       "        text-align: right;\n",
       "    }\n",
       "</style>\n",
       "<table border=\"1\" class=\"dataframe\">\n",
       "  <thead>\n",
       "    <tr style=\"text-align: right;\">\n",
       "      <th></th>\n",
       "      <th>0</th>\n",
       "    </tr>\n",
       "  </thead>\n",
       "  <tbody>\n",
       "    <tr>\n",
       "      <th>2515</th>\n",
       "      <td>2.589821</td>\n",
       "    </tr>\n",
       "    <tr>\n",
       "      <th>2516</th>\n",
       "      <td>2.590801</td>\n",
       "    </tr>\n",
       "    <tr>\n",
       "      <th>2517</th>\n",
       "      <td>2.591781</td>\n",
       "    </tr>\n",
       "    <tr>\n",
       "      <th>2518</th>\n",
       "      <td>2.592762</td>\n",
       "    </tr>\n",
       "    <tr>\n",
       "      <th>2519</th>\n",
       "      <td>2.593742</td>\n",
       "    </tr>\n",
       "  </tbody>\n",
       "</table>\n",
       "</div>"
      ],
      "text/plain": [
       "             0\n",
       "2515  2.589821\n",
       "2516  2.590801\n",
       "2517  2.591781\n",
       "2518  2.592762\n",
       "2519  2.593742"
      ]
     },
     "execution_count": 28,
     "metadata": {},
     "output_type": "execute_result"
    }
   ],
   "source": [
    "trendDf.tail()"
   ]
  },
  {
   "cell_type": "code",
   "execution_count": 29,
   "metadata": {
    "scrolled": true
   },
   "outputs": [
    {
     "name": "stdout",
     "output_type": "stream",
     "text": [
      "14.1 s ± 91.6 ms per loop (mean ± std. dev. of 7 runs, 1 loop each)\n"
     ]
    }
   ],
   "source": [
    "%%timeit\n",
    "momentumLookback=90\n",
    "# compute momentum\n",
    "df.rolling(center=False,window=momentumLookback).apply(func=price2ClassicalMomentum,\n",
    "    raw=True)\n"
   ]
  },
  {
   "cell_type": "code",
   "execution_count": 30,
   "metadata": {},
   "outputs": [
    {
     "name": "stdout",
     "output_type": "stream",
     "text": [
      "1.43 s ± 16 ms per loop (mean ± std. dev. of 7 runs, 1 loop each)\n"
     ]
    }
   ],
   "source": [
    "%%timeit\n",
    "momentumLookback=90\n",
    "# compute momentum\n",
    "df.rolling(center=False,window=momentumLookback).apply(func=price2ClassicalMomentumNumba,\n",
    "    raw=True)\n"
   ]
  },
  {
   "cell_type": "code",
   "execution_count": 74,
   "metadata": {},
   "outputs": [
    {
     "name": "stdout",
     "output_type": "stream",
     "text": [
      "14 s ± 71.6 ms per loop (mean ± std. dev. of 7 runs, 1 loop each)\n"
     ]
    }
   ],
   "source": [
    "%%timeit\n",
    "momentumLookback=90\n",
    "classicalMomentumPathsNumpy(df.values,momentumLookback)"
   ]
  },
  {
   "cell_type": "code",
   "execution_count": 75,
   "metadata": {},
   "outputs": [
    {
     "name": "stdout",
     "output_type": "stream",
     "text": [
      "139 ms ± 890 µs per loop (mean ± std. dev. of 7 runs, 1 loop each)\n"
     ]
    }
   ],
   "source": [
    "%%timeit\n",
    "momentumLookback=90\n",
    "classicalMomentumPathsNumba(df.values,momentumLookback)"
   ]
  },
  {
   "cell_type": "code",
   "execution_count": 84,
   "metadata": {},
   "outputs": [
    {
     "name": "stdout",
     "output_type": "stream",
     "text": [
      "18 ms ± 298 µs per loop (mean ± std. dev. of 7 runs, 100 loops each)\n"
     ]
    }
   ],
   "source": [
    "%%timeit \n",
    "momentumLookback=90\n",
    "classicalMomentumPathsNumbaParallel(df.values,momentumLookback)"
   ]
  },
  {
   "cell_type": "code",
   "execution_count": null,
   "metadata": {},
   "outputs": [],
   "source": []
  },
  {
   "cell_type": "code",
   "execution_count": 31,
   "metadata": {},
   "outputs": [
    {
     "name": "stdout",
     "output_type": "stream",
     "text": [
      "2min 59s ± 675 ms per loop (mean ± std. dev. of 7 runs, 1 loop each)\n"
     ]
    }
   ],
   "source": [
    "%%timeit\n",
    "momentumLookback=90\n",
    "# compute momentum\n",
    "df.rolling(center=False,window=momentumLookback).apply(func=price2momentum,\n",
    "    raw=True)"
   ]
  },
  {
   "cell_type": "code",
   "execution_count": 57,
   "metadata": {},
   "outputs": [
    {
     "name": "stdout",
     "output_type": "stream",
     "text": [
      "11.4 s ± 110 ms per loop (mean ± std. dev. of 7 runs, 1 loop each)\n"
     ]
    }
   ],
   "source": [
    "%%timeit\n",
    "momentumLookback=90\n",
    "# compute momentum\n",
    "df.rolling(center=False,window=momentumLookback).apply(func=price2momentumNumba,\n",
    "    raw=True)"
   ]
  },
  {
   "cell_type": "code",
   "execution_count": 33,
   "metadata": {},
   "outputs": [],
   "source": [
    "momentumLookback=90\n",
    "# compute momentum\n",
    "momentumDf=df.rolling(center=False,window=momentumLookback).apply(func=price2ClassicalMomentum,\n",
    "    raw=True)"
   ]
  },
  {
   "cell_type": "code",
   "execution_count": 67,
   "metadata": {},
   "outputs": [
    {
     "name": "stdout",
     "output_type": "stream",
     "text": [
      "29.6 s ± 73.4 ms per loop (mean ± std. dev. of 7 runs, 1 loop each)\n"
     ]
    }
   ],
   "source": [
    "%%timeit\n",
    "gapLookback=90\n",
    "# build gap flag\n",
    "gapDf=df.rolling(center=False,window=gapLookback).apply(func=priceGapFilter,\n",
    "    raw=True)"
   ]
  },
  {
   "cell_type": "code",
   "execution_count": 68,
   "metadata": {},
   "outputs": [
    {
     "name": "stdout",
     "output_type": "stream",
     "text": [
      "6.62 s ± 49.2 ms per loop (mean ± std. dev. of 7 runs, 1 loop each)\n"
     ]
    }
   ],
   "source": [
    "%%timeit\n",
    "gapLookback=90\n",
    "# build gap flag\n",
    "gapDf=df.rolling(center=False,window=gapLookback).apply(func=priceGapFilterNumba,\n",
    "    raw=True)"
   ]
  },
  {
   "cell_type": "code",
   "execution_count": 100,
   "metadata": {},
   "outputs": [
    {
     "name": "stdout",
     "output_type": "stream",
     "text": [
      "166 ms ± 1.12 ms per loop (mean ± std. dev. of 7 runs, 10 loops each)\n"
     ]
    }
   ],
   "source": [
    "%%timeit \n",
    "momentumLookback=90\n",
    "nPositions=100\n",
    "momentum=classicalMomentumPathsNumbaParallel(df.values,momentumLookback)\n",
    "relativeRankNumpy,momentumFlagNumpy=priceMomentum2UniverseRelativeRankNumpy(momentum,nPositions)"
   ]
  },
  {
   "cell_type": "code",
   "execution_count": 183,
   "metadata": {},
   "outputs": [],
   "source": [
    "momentumLookback=90\n",
    "nPositions=100\n",
    "\n",
    "momentum=classicalMomentumPathsNumbaParallel(df.values,momentumLookback)\n",
    "\n",
    "# find T and number of instruments\n",
    "T,nInstruments=momentum.shape\n",
    "\n",
    "# create data frames to store results\n",
    "#momentumRank=np.empty_like(momentum,'int')\n",
    "momentumRank=np.empty_like(momentum)\n",
    "momentumFlag=np.zeros_like(momentum)\n",
    "# iterate over each instant in time, t\n",
    "for t in range(0,T):\n",
    "    # find sort index for momentum of each instrument in universe\n",
    "    momentumIndex=np.argsort(momentum[t,:]*-1.0)\n",
    "    # based on sorted momentum, determine relative rank\n",
    "    momentumRank[t,momentumIndex]=np.arange(nInstruments)+1\n",
    "    # If the rank is less than target number of positions, then condition \n",
    "    # is met (i.e., stock is considered to have 'momentum') over defined \n",
    "    # lookback period\n",
    "    momentumFlag=momentumRank[t,:]<=nPositions\n"
   ]
  },
  {
   "cell_type": "code",
   "execution_count": 178,
   "metadata": {},
   "outputs": [],
   "source": [
    "momentumRank=np.empty_like(momentum,'int')"
   ]
  },
  {
   "cell_type": "code",
   "execution_count": 158,
   "metadata": {},
   "outputs": [],
   "source": [
    "rankTest=np.arange(nInstruments)"
   ]
  },
  {
   "cell_type": "code",
   "execution_count": 169,
   "metadata": {},
   "outputs": [
    {
     "data": {
      "text/plain": [
       "468"
      ]
     },
     "execution_count": 169,
     "metadata": {},
     "output_type": "execute_result"
    }
   ],
   "source": [
    "np.argmax(momentum[-1,:])"
   ]
  },
  {
   "cell_type": "code",
   "execution_count": 184,
   "metadata": {},
   "outputs": [
    {
     "data": {
      "text/plain": [
       "1.0"
      ]
     },
     "execution_count": 184,
     "metadata": {},
     "output_type": "execute_result"
    }
   ],
   "source": [
    "momentumRank[-1,468]"
   ]
  },
  {
   "cell_type": "code",
   "execution_count": 185,
   "metadata": {},
   "outputs": [
    {
     "data": {
      "text/plain": [
       "894"
      ]
     },
     "execution_count": 185,
     "metadata": {},
     "output_type": "execute_result"
    }
   ],
   "source": [
    "np.argmin(momentum[-1,:])"
   ]
  },
  {
   "cell_type": "code",
   "execution_count": 186,
   "metadata": {},
   "outputs": [
    {
     "data": {
      "text/plain": [
       "1000.0"
      ]
     },
     "execution_count": 186,
     "metadata": {},
     "output_type": "execute_result"
    }
   ],
   "source": [
    "momentumRank[-1,894]"
   ]
  },
  {
   "cell_type": "code",
   "execution_count": 171,
   "metadata": {},
   "outputs": [
    {
     "data": {
      "text/plain": [
       "993"
      ]
     },
     "execution_count": 171,
     "metadata": {},
     "output_type": "execute_result"
    }
   ],
   "source": [
    "momentumRank[-1,0]"
   ]
  },
  {
   "cell_type": "code",
   "execution_count": 174,
   "metadata": {},
   "outputs": [
    {
     "data": {
      "text/plain": [
       "array([468, 366, 901, 373, 645, 167, 444, 922, 306, 208,  28,   6, 804,\n",
       "       578, 177, 154, 594, 802,  52, 328, 530, 431, 517, 779, 297, 283,\n",
       "       984, 462, 695, 606, 508, 795, 326, 102, 762, 433, 631, 227, 758,\n",
       "       874, 791, 905, 146, 775, 891, 376, 563, 138, 945, 488, 228,  67,\n",
       "       733, 781, 607, 185, 353, 875,  76, 526, 141, 959, 116, 915, 769,\n",
       "       860, 510, 499, 575, 999,  21, 929, 629, 377, 664, 665, 187, 384,\n",
       "       401, 962, 239,  62, 347, 814,   5, 898, 659,  72, 398, 108, 658,\n",
       "       191, 912, 675, 375,  58, 485, 936,  11, 862, 699, 990, 673, 224,\n",
       "       350, 307, 649,  38, 696, 763,  80, 813, 833, 786, 741,  97,  71,\n",
       "       597, 250, 709, 690, 842, 963,   4, 480, 533, 262, 255, 368, 361,\n",
       "       450, 193, 783, 540, 466,  35, 213, 439, 417,  33, 529, 428, 487,\n",
       "       494, 932, 144, 261, 104, 993, 195,  34, 276, 470, 608, 803, 941,\n",
       "       279, 452, 225, 558, 593, 515, 837, 829, 236, 523, 423, 525, 639,\n",
       "       247, 917, 761, 816, 356, 856, 222, 395, 995, 388, 415, 992, 626,\n",
       "       681,   1, 219, 107, 259,  88, 772, 969, 955, 877, 129, 394, 975,\n",
       "       982, 493, 957, 287, 965, 548, 509, 818, 539, 973,  53, 244, 678,\n",
       "       472, 251, 701, 197, 106, 152, 863, 811, 474, 801, 850, 440, 538,\n",
       "        54, 989, 543,  74, 663, 655, 173, 419, 738, 534, 576, 997, 808,\n",
       "       340,  56, 714, 325,  13, 432, 457,  32, 954, 697, 586, 421, 831,\n",
       "       132, 561, 504, 198, 998, 787, 327, 713, 771, 289, 278,  46, 436,\n",
       "       590,  55, 702, 209, 735, 731, 581,   8, 399, 746, 354, 609, 139,\n",
       "       852, 406, 688, 446,  94, 861, 403, 717, 292, 927, 601, 752,  65,\n",
       "       338, 711, 774, 605, 573,  41, 427, 897, 120, 547, 876, 612,   3,\n",
       "       754, 267, 940, 767, 633, 192, 481, 199, 971, 744, 560, 589, 155,\n",
       "       121, 974, 768, 314, 420, 512, 770, 968, 635, 624, 920,  57, 638,\n",
       "       137, 238, 402, 337, 857, 317, 610, 978, 520, 724, 653, 367, 497,\n",
       "        87, 110, 712, 490, 216, 143, 243, 103, 967, 788, 817, 463, 478,\n",
       "        39, 830,  48,  85, 190, 685, 528, 324,  51, 256, 330, 925, 435,\n",
       "       656, 728, 679, 615, 878, 205, 854, 872, 780, 461,  90, 270, 300,\n",
       "       413,  29, 916, 554, 221, 604, 944, 692, 557, 866, 827, 240, 926,\n",
       "       274, 451, 952,  12, 747, 642, 232, 335, 840, 799, 855, 266, 298,\n",
       "       757,  75, 441, 301, 749, 815, 522, 424, 740, 662, 707, 220, 839,\n",
       "       764, 112, 518, 569, 336, 469, 619, 148, 281, 498,  10, 939, 617,\n",
       "       895, 426, 687, 257, 126, 977, 858, 907, 218,  95, 272,  69, 694,\n",
       "       760, 217, 313, 273, 151, 798, 165, 331, 596, 889, 319, 334, 233,\n",
       "       985, 189, 964, 785, 128, 796, 931, 568,  66, 434, 371,  44, 346,\n",
       "       536, 531, 535, 169, 150, 203, 691, 204, 157, 544, 904, 888, 495,\n",
       "       599, 118, 753, 884, 125, 582, 987, 956, 674, 552, 913, 661,  45,\n",
       "       670, 716, 644,  99, 418, 881, 210, 442, 743, 869, 630, 447, 784,\n",
       "       669, 859,  27, 988, 924,  63, 249, 181,  49, 285, 136, 623, 970,\n",
       "       156, 871, 359, 851, 870, 918, 641, 159, 546, 943, 835, 500, 748,\n",
       "       598, 241, 750, 153, 657,  40, 580, 559, 491, 890,  30, 486, 790,\n",
       "       374, 408, 458, 355, 823, 316, 275, 551, 101, 372, 903, 961, 689,\n",
       "       730, 880, 632, 473, 887, 392, 164, 127, 268, 834, 505,  81, 828,\n",
       "       654, 149,  37, 389, 105, 386, 587, 693, 620, 822, 484, 527,  79,\n",
       "       131, 378, 212, 951, 934, 477, 449, 391, 280, 782, 305, 514, 882,\n",
       "       135, 293,  93, 603, 387, 237, 364, 766,  47,  24, 805, 296, 647,\n",
       "       393, 627, 410, 776, 914, 958, 648, 339, 369, 991, 739, 622, 114,\n",
       "       719, 532, 902, 168, 524, 794, 668, 908, 188, 821, 329, 911, 846,\n",
       "       567, 562, 994, 700, 248, 765, 407, 320, 186, 207, 625,  78, 318,\n",
       "       309, 677, 178, 736, 111, 710, 602, 550, 640, 465, 456, 809, 215,\n",
       "       448, 363, 555, 291, 263, 873, 745, 519, 201, 460, 660,  92, 705,\n",
       "       953, 734,  84,  26, 704, 351,  89, 492,   9, 113,  42, 471, 429,\n",
       "       537, 948,  17, 501, 382, 271,  50, 142, 383, 844, 838, 868, 847,\n",
       "       564,   2, 174, 123, 140, 295, 226, 171, 893, 585, 223, 422, 290,\n",
       "       706, 362, 867, 542, 133, 333, 672,  16,  18, 755, 566, 565, 502,\n",
       "        19, 879, 507, 352, 405, 134, 671, 980, 841, 556, 848, 455,  96,\n",
       "       365, 506, 737, 246,  25, 591, 919, 282, 214, 404, 115, 722, 684,\n",
       "       264, 628, 986,  22, 826, 900,  36, 650, 443, 574, 122, 521, 595,\n",
       "       777, 938, 616, 797, 864, 718,  83,  64, 843, 947, 906, 614, 516,\n",
       "       322, 910, 820,  23, 161, 583, 234, 475, 109, 703, 184, 453, 323,\n",
       "       175, 899, 909, 725, 430, 886, 312, 686, 437,   7,  70, 729, 380,\n",
       "       666, 229, 242, 742, 235, 496, 310, 981, 194, 792,  15, 130, 400,\n",
       "       751, 592, 807, 459,  86,  98, 454, 100, 849, 172, 812, 732, 160,\n",
       "       342, 179, 286, 545, 206, 976, 390, 979, 381, 600, 676, 727, 254,\n",
       "       865, 800, 652, 117, 479, 357, 928, 170, 793, 358, 611, 269, 933,\n",
       "       832, 396,  43, 284, 379, 252, 360, 467, 621, 549, 810, 476, 265,\n",
       "       651, 182,  73,  61, 972, 892, 511, 845, 438, 541, 680, 885, 202,\n",
       "       572, 726, 231, 853, 789, 584, 708, 348, 397, 636, 230, 806, 949,\n",
       "       145, 253, 294, 341, 277, 570, 311, 344, 715, 588, 299, 778, 946,\n",
       "       304, 643, 824, 935, 634, 683, 618, 819, 773, 464, 425, 996, 308,\n",
       "        31,  59, 119, 370, 667, 409, 258, 315, 260, 180, 723,  20,  82,\n",
       "       147, 321, 343, 416, 163, 482, 883, 646, 698,  14, 483, 162, 579,\n",
       "       345, 756, 983, 942, 682, 489, 411, 385, 211, 553, 200,  60, 196,\n",
       "       158, 721, 759, 445, 937, 966,  91, 960,  77, 176, 921, 513, 923,\n",
       "       302, 166, 332, 896, 577, 571, 930, 349, 825, 183, 124, 637, 414,\n",
       "       412,  68, 245, 613,   0, 503, 303, 288, 836, 950, 720, 894])"
      ]
     },
     "execution_count": 174,
     "metadata": {},
     "output_type": "execute_result"
    }
   ],
   "source": [
    "momentumIndex"
   ]
  },
  {
   "cell_type": "code",
   "execution_count": 164,
   "metadata": {},
   "outputs": [
    {
     "data": {
      "text/plain": [
       "array([-2.63942751e-01,  2.74635250e-01,  1.56465205e-02,  2.10463772e-01,\n",
       "        3.30731341e-01,  3.90837430e-01,  6.02022637e-01, -3.51923054e-02,\n",
       "        2.25692793e-01,  2.72510532e-02,  1.52648589e-01,  3.71813967e-01,\n",
       "        1.68217661e-01,  2.44085187e-01, -1.48732770e-01, -4.50620839e-02,\n",
       "        6.73232800e-03,  2.26849451e-02,  6.50116141e-03,  2.87731389e-03,\n",
       "       -1.35955684e-01,  4.03343993e-01, -1.31178100e-02, -2.48461372e-02,\n",
       "        6.23257802e-02, -6.13288925e-03,  3.00537765e-02,  1.08598049e-01,\n",
       "        6.09766288e-01,  1.74670890e-01,  9.47912843e-02, -1.27932267e-01,\n",
       "        2.41771775e-01,  3.15356486e-01,  3.04637593e-01,  3.18830866e-01,\n",
       "       -1.41140136e-02,  8.06660054e-02,  3.56941349e-01,  1.85616644e-01,\n",
       "        9.58287201e-02,  2.16371188e-01,  2.64793282e-02, -7.38968705e-02,\n",
       "        1.27829490e-01,  1.16536725e-01,  2.30116876e-01,  6.25429766e-02,\n",
       "        1.84839769e-01,  1.04876773e-01,  2.01084690e-02,  1.82987885e-01,\n",
       "        5.44504654e-01,  2.63272135e-01,  2.52337908e-01,  2.28916496e-01,\n",
       "        2.45081332e-01,  1.96328575e-01,  3.76784118e-01, -1.27983278e-01,\n",
       "       -1.75675782e-01, -8.48257650e-02,  3.92007338e-01,  1.06205262e-01,\n",
       "       -2.01312403e-02,  2.18493986e-01,  1.28948054e-01,  4.33191185e-01,\n",
       "       -2.38799746e-01,  1.41815684e-01, -3.63698591e-02,  3.45265628e-01,\n",
       "        3.90009646e-01, -8.47842891e-02,  2.51185624e-01,  1.63089408e-01,\n",
       "        4.22458071e-01, -1.91138085e-01,  4.28967625e-02,  7.53477802e-02,\n",
       "        3.52071276e-01,  8.42031918e-02, -1.36502399e-01, -2.00272807e-02,\n",
       "        3.02997821e-02,  1.84323824e-01, -4.69320262e-02,  1.90006066e-01,\n",
       "        2.72820071e-01,  2.83489384e-02,  1.75643955e-01, -1.83883815e-01,\n",
       "        3.18457021e-02,  6.57113668e-02,  2.21675276e-01,  1.42455555e-01,\n",
       "       -6.26795111e-04,  3.47128352e-01, -4.73077550e-02,  1.14558646e-01,\n",
       "       -5.07349944e-02,  9.06974117e-02,  4.65961116e-01,  1.87406171e-01,\n",
       "        3.06976455e-01,  8.01098539e-02,  2.57742357e-01,  2.73820039e-01,\n",
       "        3.89391368e-01, -2.64051619e-02,  1.89983754e-01,  4.07602819e-02,\n",
       "        1.57225629e-01,  2.69479974e-02,  5.44836854e-02, -9.26631122e-03,\n",
       "        4.16900246e-01, -6.34414136e-02,  1.20925740e-01, -1.28039012e-01,\n",
       "        2.12371950e-01,  2.04466436e-01, -1.47830203e-02,  1.43525774e-02,\n",
       "       -2.19126966e-01,  1.20127732e-01,  1.47645395e-01,  8.55668329e-02,\n",
       "        1.34287478e-01,  2.70349200e-01, -4.52085941e-02,  7.53269578e-02,\n",
       "        2.36467073e-01,  9.12948374e-03,  1.54492261e-03,  6.82152930e-02,\n",
       "        1.03928221e-01,  1.94811137e-01,  4.36313613e-01,  2.23120181e-01,\n",
       "        1.36141513e-02,  4.19942531e-01,  2.00216785e-02,  1.88350109e-01,\n",
       "        3.10997685e-01, -9.79289962e-02,  4.45555689e-01, -1.37333090e-01,\n",
       "        1.53875263e-01,  8.17053706e-02,  1.24440199e-01,  1.40434408e-01,\n",
       "        2.56703347e-01,  9.62895103e-02,  5.75439334e-01,  2.04613780e-01,\n",
       "        1.02103786e-01,  1.23039254e-01, -1.77710653e-01,  9.98090343e-02,\n",
       "       -5.25239419e-02, -2.48993620e-02, -1.50626574e-01, -1.44013363e-01,\n",
       "        8.59481621e-02,  1.39248538e-01, -2.08292328e-01,  6.35358757e-01,\n",
       "        5.35133607e-02,  1.25547423e-01, -6.98229387e-02,  1.21276958e-02,\n",
       "       -5.12793207e-02,  2.49941351e-01,  1.51334810e-02, -2.98766948e-02,\n",
       "       -1.91348910e-01,  5.80374610e-01,  4.12845459e-02, -5.35796573e-02,\n",
       "       -1.35224924e-01,  1.05886419e-01, -8.42361714e-02, -2.16604753e-01,\n",
       "       -2.70587445e-02,  4.29570678e-01,  4.47696839e-02,  3.97966993e-01,\n",
       "        5.18894168e-02,  1.35262753e-01,  1.84217084e-01,  3.85095010e-01,\n",
       "        2.08326993e-01,  3.22841568e-01, -4.27548163e-02,  3.04970156e-01,\n",
       "       -1.77068684e-01,  2.57775292e-01,  2.34911327e-01,  2.07899838e-01,\n",
       "       -1.73125709e-01,  3.33951267e-02, -8.84258478e-02,  1.24276959e-01,\n",
       "        1.23165624e-01,  1.77463900e-01, -5.55389955e-02,  4.46780720e-02,\n",
       "        6.18272377e-01,  2.28285235e-01,  1.12296356e-01, -1.70300827e-01,\n",
       "        7.43253557e-02,  3.18808941e-01, -9.02864881e-03,  3.77938284e-02,\n",
       "        1.88401414e-01,  1.41025470e-01,  1.42523224e-01,  2.74314273e-01,\n",
       "        1.57797456e-01,  1.72761915e-01,  2.79427979e-01,  1.04991530e-02,\n",
       "        3.65479648e-01,  2.95207974e-01,  1.30726463e-02,  4.63041667e-01,\n",
       "        4.33852997e-01, -3.93981383e-02, -9.21217535e-02, -8.87884371e-02,\n",
       "        1.66921301e-01,  1.35952588e-01, -2.55830998e-02, -4.12852365e-02,\n",
       "        2.88130687e-01,  6.38306789e-02,  1.94296610e-01,  3.93624041e-01,\n",
       "        1.71267838e-01,  9.81947691e-02, -4.06021416e-02,  1.87584928e-01,\n",
       "        2.62686319e-01, -2.61619274e-01, -5.47917869e-03,  2.81484270e-01,\n",
       "        4.72598170e-02,  1.05902099e-01,  3.44290699e-01,  2.58044235e-01,\n",
       "       -7.78652624e-02, -9.82225472e-02, -6.00501837e-02,  3.27129061e-01,\n",
       "        1.82891447e-01,  1.47653929e-01, -1.32293515e-01,  2.73750526e-01,\n",
       "       -1.35040199e-01,  3.10479214e-01,  3.28056888e-01,  3.58002308e-02,\n",
       "       -1.09781679e-02, -8.25412207e-02,  1.63532895e-01,  2.09232235e-01,\n",
       "        8.51914772e-02, -7.23779666e-02,  1.75375543e-01,  2.09763608e-02,\n",
       "        1.42240687e-01,  1.40498926e-01,  1.70440458e-01,  9.21908105e-02,\n",
       "        3.03294624e-01, -1.00092725e-01,  2.30144081e-01,  2.95555083e-01,\n",
       "        7.15179554e-02,  1.53709576e-01, -7.86672679e-03,  4.94978263e-01,\n",
       "       -7.65129103e-02,  1.03965483e-01, -5.45772806e-02,  2.66858803e-01,\n",
       "       -2.74494180e-01,  2.30244042e-01,  1.01823989e-02,  3.72082104e-02,\n",
       "        2.19352780e-01,  6.70016828e-02, -9.97506550e-02,  1.35488868e-02,\n",
       "        6.06126712e-02,  4.96641699e-01,  1.63356892e-01, -1.03821555e-01,\n",
       "        1.74810604e-01,  1.62358928e-01, -2.05801862e-01, -2.64937283e-01,\n",
       "       -1.07811572e-01,  6.92836825e-02,  6.26459766e-01,  3.63345470e-01,\n",
       "       -1.27475307e-01,  4.28484516e-02, -4.19368644e-02, -1.01503016e-01,\n",
       "       -3.17378333e-02,  1.40548351e-01,  2.02118626e-01, -1.33875586e-01,\n",
       "        9.23874815e-02,  1.91932289e-01,  4.28780153e-02,  1.37137719e-01,\n",
       "        4.55418851e-02, -1.37839056e-01, -2.43032638e-02, -2.91680377e-02,\n",
       "        1.83364229e-01,  2.44494306e-01,  4.66292713e-01,  2.33913578e-01,\n",
       "        5.29333489e-01,  5.17060486e-02,  1.82634748e-01,  1.38276426e-01,\n",
       "       -2.08975748e-01,  8.96823568e-03,  1.37093721e-01,  1.65203551e-01,\n",
       "        1.55824378e-01,  1.92887971e-01,  2.18375525e-01,  5.79280706e-02,\n",
       "        2.46153862e-01, -9.99350864e-02, -5.33560591e-02, -1.38562110e-01,\n",
       "       -1.02588749e-01, -1.51992431e-01,  1.27786208e-01,  3.91942184e-01,\n",
       "       -9.07859748e-02, -2.14915491e-01,  3.64321426e-01,  2.95326887e-02,\n",
       "        2.13638387e-03,  4.24292731e-01,  2.24432918e-01,  9.27195499e-02,\n",
       "        2.80023057e-01, -6.68022180e-02, -7.15947329e-02,  1.01357828e-01,\n",
       "       -7.90012607e-02,  3.25081170e-01,  9.33575391e-03,  3.73478068e-02,\n",
       "        6.35014237e-02, -1.90315223e-03,  7.43065784e-01,  1.90713875e-01,\n",
       "        3.25474002e-01,  5.77721886e-02, -1.30243374e-01,  1.27913396e-01,\n",
       "        9.04130910e-02,  6.56526582e-01,  9.33589162e-02,  3.79878794e-01,\n",
       "        4.43828064e-01,  3.99897672e-01,  7.45195569e-02, -7.66322050e-02,\n",
       "       -3.85388540e-02, -5.83282117e-02,  2.12184128e-02,  1.99584715e-02,\n",
       "        3.97483536e-01, -1.69149332e-01,  7.98994019e-02,  6.39215900e-02,\n",
       "        2.77353913e-01,  8.05911003e-02, -5.71394466e-02,  7.22244491e-02,\n",
       "        8.60314355e-02,  6.02933344e-02,  2.70254416e-01,  2.77873892e-01,\n",
       "       -7.37238433e-02, -9.08876775e-02,  3.89510561e-01,  2.25628098e-01,\n",
       "       -4.56179957e-02,  3.97383873e-01,  1.93668529e-01,  2.19445248e-01,\n",
       "       -9.19943362e-03,  1.65847991e-03,  2.22953911e-01,  4.59283896e-02,\n",
       "        9.32744766e-02, -1.32015863e-01,  5.96122443e-02, -1.66620569e-01,\n",
       "       -2.29111788e-01,  1.74780001e-01, -2.29055369e-01,  2.77271973e-01,\n",
       "       -1.43551068e-01,  3.16379442e-01,  1.13847059e-01,  2.49548223e-01,\n",
       "        1.99902846e-01,  2.38621502e-01,  1.04762188e-02,  2.87228440e-01,\n",
       "        1.59388999e-01, -1.25263289e-01,  1.50741307e-01,  2.15752488e-01,\n",
       "        3.13163934e-01,  2.54855754e-02, -3.10477345e-02,  5.11516803e-01,\n",
       "        2.43137923e-01,  4.63440236e-01,  1.28822662e-01,  1.81080078e-01,\n",
       "        2.29298201e-01, -3.44023734e-02, -8.65075096e-02,  3.18525163e-01,\n",
       "        2.53547509e-01,  1.63082546e-01,  1.11564610e-01, -1.45889899e-02,\n",
       "        6.29985519e-01, -1.80020522e-01,  2.22395176e-01,  1.09886659e-01,\n",
       "        3.76348530e-02,  7.23322381e-02,  3.23778947e-01,  1.70260756e-01,\n",
       "        2.95479703e-01, -2.71770065e-02, -4.86319368e-02, -2.89135477e-04,\n",
       "        3.79225563e-02,  2.42692296e-01,  9.29547157e-02, -4.67894029e-02,\n",
       "        3.30274654e-02,  1.76308766e-01,  4.86868507e-01,  1.85919465e-01,\n",
       "       -1.25010835e-01,  3.81283299e-02,  3.20689422e-01, -7.93396366e-02,\n",
       "        8.49415649e-01,  1.55227761e-01,  3.02166124e-01,  2.61916016e-02,\n",
       "        2.60701533e-01,  8.69452855e-02,  2.53807099e-01, -2.57029371e-02,\n",
       "       -8.23047252e-02,  7.32325107e-02,  1.85721126e-01, -6.53191150e-02,\n",
       "        3.29504473e-01,  2.08226773e-01, -1.45777221e-01, -1.50584741e-01,\n",
       "        7.66543848e-02,  3.74408767e-01,  9.43336944e-02,  3.12395935e-01,\n",
       "        4.33948883e-01, -1.62951734e-01,  1.88616421e-01,  9.57438625e-02,\n",
       "        2.82290948e-02,  2.68333087e-01,  3.12141004e-01,  1.21564191e-01,\n",
       "       -4.17179264e-02,  1.90529721e-01,  1.53458302e-01,  4.09051463e-01,\n",
       "        9.86636803e-02,  2.14375029e-02,  3.52675123e-03, -2.64341917e-01,\n",
       "        2.35641321e-01,  8.42159838e-02, -2.04140498e-03,  2.51295658e-03,\n",
       "        4.71441414e-01,  2.64678150e-01,  4.09186755e-01, -8.57083091e-02,\n",
       "        1.99580140e-01, -2.02764362e-01,  6.90150077e-02,  2.92630499e-01,\n",
       "       -2.36365769e-02,  5.07561860e-01,  1.57205225e-01,  3.38454003e-02,\n",
       "        1.91383623e-01, -1.50476549e-02,  1.59553613e-01,  2.87787286e-01,\n",
       "        5.31728269e-02,  2.85951281e-01,  4.21228987e-01,  7.62065005e-02,\n",
       "        1.83618874e-01,  3.13773910e-01,  5.27628611e-01,  1.27444210e-01,\n",
       "        5.36003110e-02,  3.28994039e-01,  2.49503729e-01,  1.26040344e-01,\n",
       "        1.27519057e-01,  2.49756920e-02,  2.53367904e-01,  2.63942014e-01,\n",
       "        3.21635181e-01, -8.70011200e-02,  9.13560027e-03,  2.51263066e-01,\n",
       "        1.22734729e-01, -5.55292535e-02,  9.96925596e-02,  2.10966129e-01,\n",
       "        2.65460196e-01, -8.07109330e-02,  3.83973885e-02,  9.07522467e-02,\n",
       "        1.17674248e-01, -1.71015685e-01,  1.73723725e-01,  3.72113617e-02,\n",
       "        1.11624261e-04,  1.71941253e-01,  2.94541522e-01,  9.58043446e-02,\n",
       "        2.05532982e-01,  2.36164903e-01,  4.89172247e-02,  4.43624414e-01,\n",
       "        1.71492381e-02,  3.74550171e-03,  5.28263200e-03,  4.97360766e-02,\n",
       "        1.30755382e-01,  1.56997159e-01, -1.00668023e-01, -2.13065053e-01,\n",
       "       -8.85849471e-02,  2.16747395e-01, -1.47682727e-02,  4.05560619e-01,\n",
       "        2.48758590e-01, -2.11737720e-01,  5.98871363e-01, -1.51026938e-01,\n",
       "        9.58073392e-02,  2.26503915e-01,  1.19326882e-01, -2.51188390e-02,\n",
       "       -9.04527094e-02,  1.18830579e-02,  2.38824062e-01,  7.74154970e-02,\n",
       "       -1.02738673e-01,  2.04764205e-01,  2.28983968e-01, -6.89627753e-03,\n",
       "       -4.60263523e-02,  2.94445958e-01,  5.60805617e-01, -1.51914808e-02,\n",
       "        1.37935219e-01,  3.44835777e-01,  9.83605482e-02,  1.21299493e-01,\n",
       "       -5.89719144e-02,  2.18786697e-01,  3.94638187e-02,  6.56502187e-02,\n",
       "        1.72692938e-01,  2.16806205e-01,  4.81890024e-01,  4.30589727e-01,\n",
       "        3.01272673e-01,  2.24254085e-01,  1.91681097e-01, -7.22161248e-02,\n",
       "        2.10645803e-01, -2.61753921e-01, -2.35989153e-02,  1.78396793e-01,\n",
       "       -1.66237778e-02,  1.52068520e-01, -1.19219315e-01,  1.54937912e-01,\n",
       "        7.72577149e-02, -7.94433501e-02,  5.63206295e-02,  1.03797198e-01,\n",
       "        1.96952654e-01,  4.31705936e-02,  2.76434313e-01,  5.97355678e-02,\n",
       "       -1.14330332e-02,  3.99955146e-01,  1.10039310e-01,  4.63223663e-01,\n",
       "        8.71733893e-02,  2.08488234e-01, -1.14028494e-01,  1.97233123e-01,\n",
       "       -9.19747572e-02, -2.26596467e-01,  1.95101030e-01,  2.81605196e-01,\n",
       "        3.81437456e-02,  9.99083102e-02,  1.67156650e-01, -1.09077916e-01,\n",
       "        1.15015105e-01,  6.37583872e-01, -1.46424016e-01,  6.03558746e-02,\n",
       "        5.85387630e-02,  3.58877750e-01, -1.41763439e-02, -8.28114985e-02,\n",
       "       -6.27011144e-02,  1.90780002e-01,  8.23363286e-02,  2.50512484e-01,\n",
       "        1.80083039e-01,  9.59893388e-02,  3.86312550e-01,  3.90164800e-01,\n",
       "        3.19385329e-02,  1.16866210e-01,  1.58759231e-01,  2.50869900e-01,\n",
       "        3.98858443e-01,  3.98414024e-01, -3.85747297e-02, -1.31705531e-01,\n",
       "        5.23780349e-02,  1.09233059e-01,  1.15904097e-01,  1.39820884e-03,\n",
       "        8.05903131e-03,  3.67744652e-01,  1.18441196e-01,  3.84195050e-01,\n",
       "       -5.90758689e-02,  4.23825186e-02,  2.62026199e-01,  1.79835381e-01,\n",
       "       -8.71149726e-02,  2.76022215e-01, -1.59991763e-01, -1.15468735e-01,\n",
       "       -1.05003182e-02,  1.83991453e-01, -3.42021519e-02,  1.48760812e-01,\n",
       "        2.22786726e-01,  8.87425723e-02,  3.35554598e-01,  1.23523110e-01,\n",
       "        1.72076106e-01,  7.72895212e-02,  1.41391994e-01,  4.86800307e-01,\n",
       "        3.53562743e-01,  2.39054875e-01, -1.46808443e-01,  3.71382121e-01,\n",
       "        4.78672177e-02,  2.57976526e-01,  2.28838726e-01, -2.65807979e-02,\n",
       "        2.96695212e-02,  3.16495731e-02,  9.48509608e-03,  1.58526754e-01,\n",
       "       -9.05386981e-02,  3.37629112e-01,  4.05047865e-02,  2.17933690e-01,\n",
       "        1.89217582e-01,  2.31235631e-01,  2.44947323e-01, -1.02720734e-01,\n",
       "        1.15813215e-01,  2.19354837e-01, -1.96561837e-02,  5.40468591e-02,\n",
       "       -3.16794068e-01, -1.77782674e-01, -1.03378699e-02, -1.35315264e-01,\n",
       "        1.90957434e-01, -3.03817005e-02, -8.85964411e-02, -5.97836582e-02,\n",
       "        1.80060945e-01, -3.82298052e-02,  8.82430913e-02,  2.27356404e-01,\n",
       "       -5.23727513e-02,  4.32989488e-01,  3.08134350e-02,  2.27945720e-01,\n",
       "        4.08717920e-02, -3.31276888e-03,  2.49511815e-01,  5.68285012e-02,\n",
       "        1.59263250e-01,  3.47184727e-01, -4.10695864e-02,  1.10472305e-01,\n",
       "        2.06001380e-01,  3.40619140e-02,  2.25553222e-01,  1.68147564e-01,\n",
       "        9.83892162e-02,  1.61330708e-01,  9.69266387e-02, -4.58328243e-02,\n",
       "        2.18512833e-01,  1.20571481e-01,  2.09509863e-01,  6.21807222e-03,\n",
       "       -1.53361591e-01,  1.63199613e-01,  4.59712914e-01, -1.79270437e-01,\n",
       "        1.41295540e-01,  2.80689187e-01,  4.63591606e-01,  3.52706897e-01,\n",
       "        1.57307489e-01,  4.63932926e-02,  6.33278190e-02,  2.08657336e-01,\n",
       "        2.02531856e-01,  4.11415736e-01,  1.98571155e-01,  2.30821075e-01,\n",
       "        2.71932179e-01, -1.20364507e-01,  2.17261570e-01,  4.45256514e-01,\n",
       "        5.93759669e-02, -1.52798044e-02, -1.03886743e-01,  5.00580880e-01,\n",
       "        1.76726733e-01,  4.30929577e-01,  6.97591447e-02,  3.22561052e-01,\n",
       "        1.09701101e-01,  1.34307294e-01,  3.48018739e-01,  2.34000861e-01,\n",
       "        1.86122717e-01, -9.01864618e-02,  9.35534336e-02,  4.55996872e-01,\n",
       "       -4.38861775e-02, -7.02974245e-02,  5.27635832e-02,  4.69652584e-01,\n",
       "        1.34167113e-01, -1.81637567e-02,  1.40258591e-01,  1.64756589e-01,\n",
       "       -6.26802405e-02,  2.53692575e-01,  5.54399395e-01,  2.97582694e-01,\n",
       "        6.00789069e-01,  6.16339651e-02, -9.26591100e-02, -4.61300946e-02,\n",
       "        2.46153963e-01,  3.78643787e-02, -8.08654064e-02,  2.54338379e-01,\n",
       "       -5.22405076e-02,  3.51288053e-01,  3.91918462e-01,  1.61219120e-01,\n",
       "        2.80334762e-01,  1.85943780e-01,  2.64570660e-01, -1.20110270e-01,\n",
       "       -2.45930510e-02,  5.17352074e-02,  7.68495607e-02,  9.24748098e-02,\n",
       "       -1.09933460e-01, -2.15304293e-01, -1.31268341e-02,  1.71477478e-01,\n",
       "        8.38399944e-02,  2.88298524e-01,  1.85072467e-01,  2.38083715e-01,\n",
       "       -7.35117253e-02,  3.50223873e-01,  8.47159916e-02,  9.90282782e-02,\n",
       "       -2.98330139e-01,  2.90770803e-01,  1.85301349e-02,  1.57766005e-01,\n",
       "        1.65160453e-01,  1.39470731e-04,  3.34436050e-01, -2.05531954e-02,\n",
       "        1.89022721e-02, -8.59997091e-02,  4.97465225e-02,  1.71817576e-02,\n",
       "       -1.69702238e-04, -5.12653299e-02,  2.53554630e-01,  1.00694582e-01,\n",
       "        2.23066505e-01, -8.98529395e-02,  1.77042424e-01,  1.64357940e-01,\n",
       "        2.79617694e-01,  1.92834406e-01,  1.44387835e-01,  1.08911069e-01,\n",
       "        4.10317879e-01,  2.21560269e-01,  3.71700595e-01,  2.55678997e-01,\n",
       "       -1.85457185e-02, -6.17301032e-02,  1.71488632e-01,  9.32035983e-03,\n",
       "        1.84903592e-02,  1.10407260e-01,  1.00525436e-01,  1.01985152e-01,\n",
       "        1.76838852e-01,  3.52923252e-02,  4.58862950e-01,  4.23379680e-01,\n",
       "        2.10795602e-01,  2.70349826e-01,  1.77592287e-01,  2.63127471e-03,\n",
       "        8.72498236e-02,  1.12583225e-01,  6.87627298e-02, -1.46206683e-01,\n",
       "        1.20532113e-01, -8.81832438e-02, -3.10858051e-02,  8.68421003e-02,\n",
       "        1.21723205e-01,  1.37198882e-01,  9.48251110e-02,  4.44834317e-01,\n",
       "       -8.54567425e-02,  1.19960774e-02, -3.33646613e-01,  1.51599045e-01,\n",
       "       -2.09543247e-01,  2.14871726e-01,  3.90332274e-01, -2.99201007e-02,\n",
       "       -1.35825039e-02,  6.76294691e-01,  5.35519987e-02,  9.00340987e-02,\n",
       "        1.22477438e-01,  4.47292880e-01, -2.26665486e-02,  1.43197891e-01,\n",
       "        5.20363581e-02, -3.02551170e-02, -2.44841735e-02,  5.09006474e-02,\n",
       "        3.84788949e-01,  1.16972359e-01,  5.91188679e-02,  4.11861684e-01,\n",
       "        1.74276440e-01,  2.80820200e-01,  1.00177422e-01, -7.48115813e-03,\n",
       "        1.96816895e-01, -1.92239655e-01,  6.28723921e-01, -2.04754060e-01,\n",
       "        1.06583081e-01,  1.82561651e-01,  1.71011373e-01,  2.18798416e-01,\n",
       "       -6.88119622e-02,  4.02723609e-01, -2.14205534e-01,  1.33782725e-01,\n",
       "        3.11575049e-01, -7.24061665e-02,  7.37255067e-02, -1.10173602e-01,\n",
       "        3.71848339e-01, -1.80069693e-01, -1.55792580e-02,  1.52484661e-01,\n",
       "        2.08950973e-01,  2.96136086e-01, -1.58305624e-01,  9.90781371e-02,\n",
       "        1.72323952e-01,  4.34981168e-01, -1.04413808e-01, -2.10575717e-02,\n",
       "        2.43153199e-02, -9.54161700e-02, -3.11457026e-01,  7.42046838e-02,\n",
       "        1.69482095e-01,  3.10206586e-02,  2.40827693e-01,  2.70663893e-01,\n",
       "        1.18675535e-01,  2.67822082e-01,  5.90475900e-02,  4.16961059e-01,\n",
       "       -1.90398138e-01,  8.87595101e-02,  3.96014028e-01,  3.32008533e-01,\n",
       "        1.35090416e-01,  2.66147486e-01, -1.81283047e-01,  1.86768224e-01,\n",
       "        1.98390992e-01,  2.71552731e-01,  1.02938818e-01,  2.07720622e-01,\n",
       "       -8.51655508e-02,  2.63716676e-01,  2.04414229e-01,  2.68772745e-01,\n",
       "       -5.63975056e-02,  1.47488252e-01,  1.91447829e-01, -5.72121339e-02,\n",
       "        1.15066727e-03, -4.22654714e-02,  2.68401181e-01, -1.53704562e-01,\n",
       "        4.94406461e-01,  1.35887160e-01, -1.16938579e-02,  1.19051240e-01,\n",
       "        1.07036304e-01,  2.51286322e-01,  3.70690522e-01,  5.71845828e-02,\n",
       "        2.76903100e-01,  3.05512447e-01,  4.87966535e-02,  2.77737364e-01,\n",
       "       -1.27329960e-01,  2.46367072e-01,  2.34575249e-01,  4.05156701e-01])"
      ]
     },
     "execution_count": 164,
     "metadata": {},
     "output_type": "execute_result"
    }
   ],
   "source": [
    "momentum[-1,:]"
   ]
  },
  {
   "cell_type": "code",
   "execution_count": 155,
   "metadata": {},
   "outputs": [
    {
     "data": {
      "text/plain": [
       "array([ 1,  2,  3,  4,  5,  6,  7,  8,  9, 10])"
      ]
     },
     "execution_count": 155,
     "metadata": {},
     "output_type": "execute_result"
    }
   ],
   "source": [
    "momentumRank[-1,momentumIndex[0:10]]"
   ]
  },
  {
   "cell_type": "code",
   "execution_count": 154,
   "metadata": {},
   "outputs": [
    {
     "data": {
      "text/plain": [
       "array([468, 366, 901, 373, 645, 167, 444, 922, 306, 208])"
      ]
     },
     "execution_count": 154,
     "metadata": {},
     "output_type": "execute_result"
    }
   ],
   "source": [
    "momentumIndex[0:10]"
   ]
  },
  {
   "cell_type": "code",
   "execution_count": 142,
   "metadata": {},
   "outputs": [
    {
     "data": {
      "text/plain": [
       "<matplotlib.axes._subplots.AxesSubplot at 0x7f76c9e5b9b0>"
      ]
     },
     "execution_count": 142,
     "metadata": {},
     "output_type": "execute_result"
    },
    {
     "data": {
      "image/png": "[encoded data removed]",
      "text/plain": [
       "<Figure size 432x288 with 1 Axes>"
      ]
     },
     "metadata": {
      "needs_background": "light"
     },
     "output_type": "display_data"
    }
   ],
   "source": [
    "pd.DataFrame(momentum[-1,momentumIndex]).plot(legend=False)"
   ]
  },
  {
   "cell_type": "code",
   "execution_count": 116,
   "metadata": {},
   "outputs": [
    {
     "data": {
      "text/plain": [
       "array([-2.63942751e-01,  2.74635250e-01,  1.56465205e-02,  2.10463772e-01,\n",
       "        3.30731341e-01,  3.90837430e-01,  6.02022637e-01, -3.51923054e-02,\n",
       "        2.25692793e-01,  2.72510532e-02,  1.52648589e-01,  3.71813967e-01,\n",
       "        1.68217661e-01,  2.44085187e-01, -1.48732770e-01, -4.50620839e-02,\n",
       "        6.73232800e-03,  2.26849451e-02,  6.50116141e-03,  2.87731389e-03,\n",
       "       -1.35955684e-01,  4.03343993e-01, -1.31178100e-02, -2.48461372e-02,\n",
       "        6.23257802e-02, -6.13288925e-03,  3.00537765e-02,  1.08598049e-01,\n",
       "        6.09766288e-01,  1.74670890e-01,  9.47912843e-02, -1.27932267e-01,\n",
       "        2.41771775e-01,  3.15356486e-01,  3.04637593e-01,  3.18830866e-01,\n",
       "       -1.41140136e-02,  8.06660054e-02,  3.56941349e-01,  1.85616644e-01,\n",
       "        9.58287201e-02,  2.16371188e-01,  2.64793282e-02, -7.38968705e-02,\n",
       "        1.27829490e-01,  1.16536725e-01,  2.30116876e-01,  6.25429766e-02,\n",
       "        1.84839769e-01,  1.04876773e-01,  2.01084690e-02,  1.82987885e-01,\n",
       "        5.44504654e-01,  2.63272135e-01,  2.52337908e-01,  2.28916496e-01,\n",
       "        2.45081332e-01,  1.96328575e-01,  3.76784118e-01, -1.27983278e-01,\n",
       "       -1.75675782e-01, -8.48257650e-02,  3.92007338e-01,  1.06205262e-01,\n",
       "       -2.01312403e-02,  2.18493986e-01,  1.28948054e-01,  4.33191185e-01,\n",
       "       -2.38799746e-01,  1.41815684e-01, -3.63698591e-02,  3.45265628e-01,\n",
       "        3.90009646e-01, -8.47842891e-02,  2.51185624e-01,  1.63089408e-01,\n",
       "        4.22458071e-01, -1.91138085e-01,  4.28967625e-02,  7.53477802e-02,\n",
       "        3.52071276e-01,  8.42031918e-02, -1.36502399e-01, -2.00272807e-02,\n",
       "        3.02997821e-02,  1.84323824e-01, -4.69320262e-02,  1.90006066e-01,\n",
       "        2.72820071e-01,  2.83489384e-02,  1.75643955e-01, -1.83883815e-01,\n",
       "        3.18457021e-02,  6.57113668e-02,  2.21675276e-01,  1.42455555e-01,\n",
       "       -6.26795111e-04,  3.47128352e-01, -4.73077550e-02,  1.14558646e-01,\n",
       "       -5.07349944e-02,  9.06974117e-02,  4.65961116e-01,  1.87406171e-01,\n",
       "        3.06976455e-01,  8.01098539e-02,  2.57742357e-01,  2.73820039e-01,\n",
       "        3.89391368e-01, -2.64051619e-02,  1.89983754e-01,  4.07602819e-02,\n",
       "        1.57225629e-01,  2.69479974e-02,  5.44836854e-02, -9.26631122e-03,\n",
       "        4.16900246e-01, -6.34414136e-02,  1.20925740e-01, -1.28039012e-01,\n",
       "        2.12371950e-01,  2.04466436e-01, -1.47830203e-02,  1.43525774e-02,\n",
       "       -2.19126966e-01,  1.20127732e-01,  1.47645395e-01,  8.55668329e-02,\n",
       "        1.34287478e-01,  2.70349200e-01, -4.52085941e-02,  7.53269578e-02,\n",
       "        2.36467073e-01,  9.12948374e-03,  1.54492261e-03,  6.82152930e-02,\n",
       "        1.03928221e-01,  1.94811137e-01,  4.36313613e-01,  2.23120181e-01,\n",
       "        1.36141513e-02,  4.19942531e-01,  2.00216785e-02,  1.88350109e-01,\n",
       "        3.10997685e-01, -9.79289962e-02,  4.45555689e-01, -1.37333090e-01,\n",
       "        1.53875263e-01,  8.17053706e-02,  1.24440199e-01,  1.40434408e-01,\n",
       "        2.56703347e-01,  9.62895103e-02,  5.75439334e-01,  2.04613780e-01,\n",
       "        1.02103786e-01,  1.23039254e-01, -1.77710653e-01,  9.98090343e-02,\n",
       "       -5.25239419e-02, -2.48993620e-02, -1.50626574e-01, -1.44013363e-01,\n",
       "        8.59481621e-02,  1.39248538e-01, -2.08292328e-01,  6.35358757e-01,\n",
       "        5.35133607e-02,  1.25547423e-01, -6.98229387e-02,  1.21276958e-02,\n",
       "       -5.12793207e-02,  2.49941351e-01,  1.51334810e-02, -2.98766948e-02,\n",
       "       -1.91348910e-01,  5.80374610e-01,  4.12845459e-02, -5.35796573e-02,\n",
       "       -1.35224924e-01,  1.05886419e-01, -8.42361714e-02, -2.16604753e-01,\n",
       "       -2.70587445e-02,  4.29570678e-01,  4.47696839e-02,  3.97966993e-01,\n",
       "        5.18894168e-02,  1.35262753e-01,  1.84217084e-01,  3.85095010e-01,\n",
       "        2.08326993e-01,  3.22841568e-01, -4.27548163e-02,  3.04970156e-01,\n",
       "       -1.77068684e-01,  2.57775292e-01,  2.34911327e-01,  2.07899838e-01,\n",
       "       -1.73125709e-01,  3.33951267e-02, -8.84258478e-02,  1.24276959e-01,\n",
       "        1.23165624e-01,  1.77463900e-01, -5.55389955e-02,  4.46780720e-02,\n",
       "        6.18272377e-01,  2.28285235e-01,  1.12296356e-01, -1.70300827e-01,\n",
       "        7.43253557e-02,  3.18808941e-01, -9.02864881e-03,  3.77938284e-02,\n",
       "        1.88401414e-01,  1.41025470e-01,  1.42523224e-01,  2.74314273e-01,\n",
       "        1.57797456e-01,  1.72761915e-01,  2.79427979e-01,  1.04991530e-02,\n",
       "        3.65479648e-01,  2.95207974e-01,  1.30726463e-02,  4.63041667e-01,\n",
       "        4.33852997e-01, -3.93981383e-02, -9.21217535e-02, -8.87884371e-02,\n",
       "        1.66921301e-01,  1.35952588e-01, -2.55830998e-02, -4.12852365e-02,\n",
       "        2.88130687e-01,  6.38306789e-02,  1.94296610e-01,  3.93624041e-01,\n",
       "        1.71267838e-01,  9.81947691e-02, -4.06021416e-02,  1.87584928e-01,\n",
       "        2.62686319e-01, -2.61619274e-01, -5.47917869e-03,  2.81484270e-01,\n",
       "        4.72598170e-02,  1.05902099e-01,  3.44290699e-01,  2.58044235e-01,\n",
       "       -7.78652624e-02, -9.82225472e-02, -6.00501837e-02,  3.27129061e-01,\n",
       "        1.82891447e-01,  1.47653929e-01, -1.32293515e-01,  2.73750526e-01,\n",
       "       -1.35040199e-01,  3.10479214e-01,  3.28056888e-01,  3.58002308e-02,\n",
       "       -1.09781679e-02, -8.25412207e-02,  1.63532895e-01,  2.09232235e-01,\n",
       "        8.51914772e-02, -7.23779666e-02,  1.75375543e-01,  2.09763608e-02,\n",
       "        1.42240687e-01,  1.40498926e-01,  1.70440458e-01,  9.21908105e-02,\n",
       "        3.03294624e-01, -1.00092725e-01,  2.30144081e-01,  2.95555083e-01,\n",
       "        7.15179554e-02,  1.53709576e-01, -7.86672679e-03,  4.94978263e-01,\n",
       "       -7.65129103e-02,  1.03965483e-01, -5.45772806e-02,  2.66858803e-01,\n",
       "       -2.74494180e-01,  2.30244042e-01,  1.01823989e-02,  3.72082104e-02,\n",
       "        2.19352780e-01,  6.70016828e-02, -9.97506550e-02,  1.35488868e-02,\n",
       "        6.06126712e-02,  4.96641699e-01,  1.63356892e-01, -1.03821555e-01,\n",
       "        1.74810604e-01,  1.62358928e-01, -2.05801862e-01, -2.64937283e-01,\n",
       "       -1.07811572e-01,  6.92836825e-02,  6.26459766e-01,  3.63345470e-01,\n",
       "       -1.27475307e-01,  4.28484516e-02, -4.19368644e-02, -1.01503016e-01,\n",
       "       -3.17378333e-02,  1.40548351e-01,  2.02118626e-01, -1.33875586e-01,\n",
       "        9.23874815e-02,  1.91932289e-01,  4.28780153e-02,  1.37137719e-01,\n",
       "        4.55418851e-02, -1.37839056e-01, -2.43032638e-02, -2.91680377e-02,\n",
       "        1.83364229e-01,  2.44494306e-01,  4.66292713e-01,  2.33913578e-01,\n",
       "        5.29333489e-01,  5.17060486e-02,  1.82634748e-01,  1.38276426e-01,\n",
       "       -2.08975748e-01,  8.96823568e-03,  1.37093721e-01,  1.65203551e-01,\n",
       "        1.55824378e-01,  1.92887971e-01,  2.18375525e-01,  5.79280706e-02,\n",
       "        2.46153862e-01, -9.99350864e-02, -5.33560591e-02, -1.38562110e-01,\n",
       "       -1.02588749e-01, -1.51992431e-01,  1.27786208e-01,  3.91942184e-01,\n",
       "       -9.07859748e-02, -2.14915491e-01,  3.64321426e-01,  2.95326887e-02,\n",
       "        2.13638387e-03,  4.24292731e-01,  2.24432918e-01,  9.27195499e-02,\n",
       "        2.80023057e-01, -6.68022180e-02, -7.15947329e-02,  1.01357828e-01,\n",
       "       -7.90012607e-02,  3.25081170e-01,  9.33575391e-03,  3.73478068e-02,\n",
       "        6.35014237e-02, -1.90315223e-03,  7.43065784e-01,  1.90713875e-01,\n",
       "        3.25474002e-01,  5.77721886e-02, -1.30243374e-01,  1.27913396e-01,\n",
       "        9.04130910e-02,  6.56526582e-01,  9.33589162e-02,  3.79878794e-01,\n",
       "        4.43828064e-01,  3.99897672e-01,  7.45195569e-02, -7.66322050e-02,\n",
       "       -3.85388540e-02, -5.83282117e-02,  2.12184128e-02,  1.99584715e-02,\n",
       "        3.97483536e-01, -1.69149332e-01,  7.98994019e-02,  6.39215900e-02,\n",
       "        2.77353913e-01,  8.05911003e-02, -5.71394466e-02,  7.22244491e-02,\n",
       "        8.60314355e-02,  6.02933344e-02,  2.70254416e-01,  2.77873892e-01,\n",
       "       -7.37238433e-02, -9.08876775e-02,  3.89510561e-01,  2.25628098e-01,\n",
       "       -4.56179957e-02,  3.97383873e-01,  1.93668529e-01,  2.19445248e-01,\n",
       "       -9.19943362e-03,  1.65847991e-03,  2.22953911e-01,  4.59283896e-02,\n",
       "        9.32744766e-02, -1.32015863e-01,  5.96122443e-02, -1.66620569e-01,\n",
       "       -2.29111788e-01,  1.74780001e-01, -2.29055369e-01,  2.77271973e-01,\n",
       "       -1.43551068e-01,  3.16379442e-01,  1.13847059e-01,  2.49548223e-01,\n",
       "        1.99902846e-01,  2.38621502e-01,  1.04762188e-02,  2.87228440e-01,\n",
       "        1.59388999e-01, -1.25263289e-01,  1.50741307e-01,  2.15752488e-01,\n",
       "        3.13163934e-01,  2.54855754e-02, -3.10477345e-02,  5.11516803e-01,\n",
       "        2.43137923e-01,  4.63440236e-01,  1.28822662e-01,  1.81080078e-01,\n",
       "        2.29298201e-01, -3.44023734e-02, -8.65075096e-02,  3.18525163e-01,\n",
       "        2.53547509e-01,  1.63082546e-01,  1.11564610e-01, -1.45889899e-02,\n",
       "        6.29985519e-01, -1.80020522e-01,  2.22395176e-01,  1.09886659e-01,\n",
       "        3.76348530e-02,  7.23322381e-02,  3.23778947e-01,  1.70260756e-01,\n",
       "        2.95479703e-01, -2.71770065e-02, -4.86319368e-02, -2.89135477e-04,\n",
       "        3.79225563e-02,  2.42692296e-01,  9.29547157e-02, -4.67894029e-02,\n",
       "        3.30274654e-02,  1.76308766e-01,  4.86868507e-01,  1.85919465e-01,\n",
       "       -1.25010835e-01,  3.81283299e-02,  3.20689422e-01, -7.93396366e-02,\n",
       "        8.49415649e-01,  1.55227761e-01,  3.02166124e-01,  2.61916016e-02,\n",
       "        2.60701533e-01,  8.69452855e-02,  2.53807099e-01, -2.57029371e-02,\n",
       "       -8.23047252e-02,  7.32325107e-02,  1.85721126e-01, -6.53191150e-02,\n",
       "        3.29504473e-01,  2.08226773e-01, -1.45777221e-01, -1.50584741e-01,\n",
       "        7.66543848e-02,  3.74408767e-01,  9.43336944e-02,  3.12395935e-01,\n",
       "        4.33948883e-01, -1.62951734e-01,  1.88616421e-01,  9.57438625e-02,\n",
       "        2.82290948e-02,  2.68333087e-01,  3.12141004e-01,  1.21564191e-01,\n",
       "       -4.17179264e-02,  1.90529721e-01,  1.53458302e-01,  4.09051463e-01,\n",
       "        9.86636803e-02,  2.14375029e-02,  3.52675123e-03, -2.64341917e-01,\n",
       "        2.35641321e-01,  8.42159838e-02, -2.04140498e-03,  2.51295658e-03,\n",
       "        4.71441414e-01,  2.64678150e-01,  4.09186755e-01, -8.57083091e-02,\n",
       "        1.99580140e-01, -2.02764362e-01,  6.90150077e-02,  2.92630499e-01,\n",
       "       -2.36365769e-02,  5.07561860e-01,  1.57205225e-01,  3.38454003e-02,\n",
       "        1.91383623e-01, -1.50476549e-02,  1.59553613e-01,  2.87787286e-01,\n",
       "        5.31728269e-02,  2.85951281e-01,  4.21228987e-01,  7.62065005e-02,\n",
       "        1.83618874e-01,  3.13773910e-01,  5.27628611e-01,  1.27444210e-01,\n",
       "        5.36003110e-02,  3.28994039e-01,  2.49503729e-01,  1.26040344e-01,\n",
       "        1.27519057e-01,  2.49756920e-02,  2.53367904e-01,  2.63942014e-01,\n",
       "        3.21635181e-01, -8.70011200e-02,  9.13560027e-03,  2.51263066e-01,\n",
       "        1.22734729e-01, -5.55292535e-02,  9.96925596e-02,  2.10966129e-01,\n",
       "        2.65460196e-01, -8.07109330e-02,  3.83973885e-02,  9.07522467e-02,\n",
       "        1.17674248e-01, -1.71015685e-01,  1.73723725e-01,  3.72113617e-02,\n",
       "        1.11624261e-04,  1.71941253e-01,  2.94541522e-01,  9.58043446e-02,\n",
       "        2.05532982e-01,  2.36164903e-01,  4.89172247e-02,  4.43624414e-01,\n",
       "        1.71492381e-02,  3.74550171e-03,  5.28263200e-03,  4.97360766e-02,\n",
       "        1.30755382e-01,  1.56997159e-01, -1.00668023e-01, -2.13065053e-01,\n",
       "       -8.85849471e-02,  2.16747395e-01, -1.47682727e-02,  4.05560619e-01,\n",
       "        2.48758590e-01, -2.11737720e-01,  5.98871363e-01, -1.51026938e-01,\n",
       "        9.58073392e-02,  2.26503915e-01,  1.19326882e-01, -2.51188390e-02,\n",
       "       -9.04527094e-02,  1.18830579e-02,  2.38824062e-01,  7.74154970e-02,\n",
       "       -1.02738673e-01,  2.04764205e-01,  2.28983968e-01, -6.89627753e-03,\n",
       "       -4.60263523e-02,  2.94445958e-01,  5.60805617e-01, -1.51914808e-02,\n",
       "        1.37935219e-01,  3.44835777e-01,  9.83605482e-02,  1.21299493e-01,\n",
       "       -5.89719144e-02,  2.18786697e-01,  3.94638187e-02,  6.56502187e-02,\n",
       "        1.72692938e-01,  2.16806205e-01,  4.81890024e-01,  4.30589727e-01,\n",
       "        3.01272673e-01,  2.24254085e-01,  1.91681097e-01, -7.22161248e-02,\n",
       "        2.10645803e-01, -2.61753921e-01, -2.35989153e-02,  1.78396793e-01,\n",
       "       -1.66237778e-02,  1.52068520e-01, -1.19219315e-01,  1.54937912e-01,\n",
       "        7.72577149e-02, -7.94433501e-02,  5.63206295e-02,  1.03797198e-01,\n",
       "        1.96952654e-01,  4.31705936e-02,  2.76434313e-01,  5.97355678e-02,\n",
       "       -1.14330332e-02,  3.99955146e-01,  1.10039310e-01,  4.63223663e-01,\n",
       "        8.71733893e-02,  2.08488234e-01, -1.14028494e-01,  1.97233123e-01,\n",
       "       -9.19747572e-02, -2.26596467e-01,  1.95101030e-01,  2.81605196e-01,\n",
       "        3.81437456e-02,  9.99083102e-02,  1.67156650e-01, -1.09077916e-01,\n",
       "        1.15015105e-01,  6.37583872e-01, -1.46424016e-01,  6.03558746e-02,\n",
       "        5.85387630e-02,  3.58877750e-01, -1.41763439e-02, -8.28114985e-02,\n",
       "       -6.27011144e-02,  1.90780002e-01,  8.23363286e-02,  2.50512484e-01,\n",
       "        1.80083039e-01,  9.59893388e-02,  3.86312550e-01,  3.90164800e-01,\n",
       "        3.19385329e-02,  1.16866210e-01,  1.58759231e-01,  2.50869900e-01,\n",
       "        3.98858443e-01,  3.98414024e-01, -3.85747297e-02, -1.31705531e-01,\n",
       "        5.23780349e-02,  1.09233059e-01,  1.15904097e-01,  1.39820884e-03,\n",
       "        8.05903131e-03,  3.67744652e-01,  1.18441196e-01,  3.84195050e-01,\n",
       "       -5.90758689e-02,  4.23825186e-02,  2.62026199e-01,  1.79835381e-01,\n",
       "       -8.71149726e-02,  2.76022215e-01, -1.59991763e-01, -1.15468735e-01,\n",
       "       -1.05003182e-02,  1.83991453e-01, -3.42021519e-02,  1.48760812e-01,\n",
       "        2.22786726e-01,  8.87425723e-02,  3.35554598e-01,  1.23523110e-01,\n",
       "        1.72076106e-01,  7.72895212e-02,  1.41391994e-01,  4.86800307e-01,\n",
       "        3.53562743e-01,  2.39054875e-01, -1.46808443e-01,  3.71382121e-01,\n",
       "        4.78672177e-02,  2.57976526e-01,  2.28838726e-01, -2.65807979e-02,\n",
       "        2.96695212e-02,  3.16495731e-02,  9.48509608e-03,  1.58526754e-01,\n",
       "       -9.05386981e-02,  3.37629112e-01,  4.05047865e-02,  2.17933690e-01,\n",
       "        1.89217582e-01,  2.31235631e-01,  2.44947323e-01, -1.02720734e-01,\n",
       "        1.15813215e-01,  2.19354837e-01, -1.96561837e-02,  5.40468591e-02,\n",
       "       -3.16794068e-01, -1.77782674e-01, -1.03378699e-02, -1.35315264e-01,\n",
       "        1.90957434e-01, -3.03817005e-02, -8.85964411e-02, -5.97836582e-02,\n",
       "        1.80060945e-01, -3.82298052e-02,  8.82430913e-02,  2.27356404e-01,\n",
       "       -5.23727513e-02,  4.32989488e-01,  3.08134350e-02,  2.27945720e-01,\n",
       "        4.08717920e-02, -3.31276888e-03,  2.49511815e-01,  5.68285012e-02,\n",
       "        1.59263250e-01,  3.47184727e-01, -4.10695864e-02,  1.10472305e-01,\n",
       "        2.06001380e-01,  3.40619140e-02,  2.25553222e-01,  1.68147564e-01,\n",
       "        9.83892162e-02,  1.61330708e-01,  9.69266387e-02, -4.58328243e-02,\n",
       "        2.18512833e-01,  1.20571481e-01,  2.09509863e-01,  6.21807222e-03,\n",
       "       -1.53361591e-01,  1.63199613e-01,  4.59712914e-01, -1.79270437e-01,\n",
       "        1.41295540e-01,  2.80689187e-01,  4.63591606e-01,  3.52706897e-01,\n",
       "        1.57307489e-01,  4.63932926e-02,  6.33278190e-02,  2.08657336e-01,\n",
       "        2.02531856e-01,  4.11415736e-01,  1.98571155e-01,  2.30821075e-01,\n",
       "        2.71932179e-01, -1.20364507e-01,  2.17261570e-01,  4.45256514e-01,\n",
       "        5.93759669e-02, -1.52798044e-02, -1.03886743e-01,  5.00580880e-01,\n",
       "        1.76726733e-01,  4.30929577e-01,  6.97591447e-02,  3.22561052e-01,\n",
       "        1.09701101e-01,  1.34307294e-01,  3.48018739e-01,  2.34000861e-01,\n",
       "        1.86122717e-01, -9.01864618e-02,  9.35534336e-02,  4.55996872e-01,\n",
       "       -4.38861775e-02, -7.02974245e-02,  5.27635832e-02,  4.69652584e-01,\n",
       "        1.34167113e-01, -1.81637567e-02,  1.40258591e-01,  1.64756589e-01,\n",
       "       -6.26802405e-02,  2.53692575e-01,  5.54399395e-01,  2.97582694e-01,\n",
       "        6.00789069e-01,  6.16339651e-02, -9.26591100e-02, -4.61300946e-02,\n",
       "        2.46153963e-01,  3.78643787e-02, -8.08654064e-02,  2.54338379e-01,\n",
       "       -5.22405076e-02,  3.51288053e-01,  3.91918462e-01,  1.61219120e-01,\n",
       "        2.80334762e-01,  1.85943780e-01,  2.64570660e-01, -1.20110270e-01,\n",
       "       -2.45930510e-02,  5.17352074e-02,  7.68495607e-02,  9.24748098e-02,\n",
       "       -1.09933460e-01, -2.15304293e-01, -1.31268341e-02,  1.71477478e-01,\n",
       "        8.38399944e-02,  2.88298524e-01,  1.85072467e-01,  2.38083715e-01,\n",
       "       -7.35117253e-02,  3.50223873e-01,  8.47159916e-02,  9.90282782e-02,\n",
       "       -2.98330139e-01,  2.90770803e-01,  1.85301349e-02,  1.57766005e-01,\n",
       "        1.65160453e-01,  1.39470731e-04,  3.34436050e-01, -2.05531954e-02,\n",
       "        1.89022721e-02, -8.59997091e-02,  4.97465225e-02,  1.71817576e-02,\n",
       "       -1.69702238e-04, -5.12653299e-02,  2.53554630e-01,  1.00694582e-01,\n",
       "        2.23066505e-01, -8.98529395e-02,  1.77042424e-01,  1.64357940e-01,\n",
       "        2.79617694e-01,  1.92834406e-01,  1.44387835e-01,  1.08911069e-01,\n",
       "        4.10317879e-01,  2.21560269e-01,  3.71700595e-01,  2.55678997e-01,\n",
       "       -1.85457185e-02, -6.17301032e-02,  1.71488632e-01,  9.32035983e-03,\n",
       "        1.84903592e-02,  1.10407260e-01,  1.00525436e-01,  1.01985152e-01,\n",
       "        1.76838852e-01,  3.52923252e-02,  4.58862950e-01,  4.23379680e-01,\n",
       "        2.10795602e-01,  2.70349826e-01,  1.77592287e-01,  2.63127471e-03,\n",
       "        8.72498236e-02,  1.12583225e-01,  6.87627298e-02, -1.46206683e-01,\n",
       "        1.20532113e-01, -8.81832438e-02, -3.10858051e-02,  8.68421003e-02,\n",
       "        1.21723205e-01,  1.37198882e-01,  9.48251110e-02,  4.44834317e-01,\n",
       "       -8.54567425e-02,  1.19960774e-02, -3.33646613e-01,  1.51599045e-01,\n",
       "       -2.09543247e-01,  2.14871726e-01,  3.90332274e-01, -2.99201007e-02,\n",
       "       -1.35825039e-02,  6.76294691e-01,  5.35519987e-02,  9.00340987e-02,\n",
       "        1.22477438e-01,  4.47292880e-01, -2.26665486e-02,  1.43197891e-01,\n",
       "        5.20363581e-02, -3.02551170e-02, -2.44841735e-02,  5.09006474e-02,\n",
       "        3.84788949e-01,  1.16972359e-01,  5.91188679e-02,  4.11861684e-01,\n",
       "        1.74276440e-01,  2.80820200e-01,  1.00177422e-01, -7.48115813e-03,\n",
       "        1.96816895e-01, -1.92239655e-01,  6.28723921e-01, -2.04754060e-01,\n",
       "        1.06583081e-01,  1.82561651e-01,  1.71011373e-01,  2.18798416e-01,\n",
       "       -6.88119622e-02,  4.02723609e-01, -2.14205534e-01,  1.33782725e-01,\n",
       "        3.11575049e-01, -7.24061665e-02,  7.37255067e-02, -1.10173602e-01,\n",
       "        3.71848339e-01, -1.80069693e-01, -1.55792580e-02,  1.52484661e-01,\n",
       "        2.08950973e-01,  2.96136086e-01, -1.58305624e-01,  9.90781371e-02,\n",
       "        1.72323952e-01,  4.34981168e-01, -1.04413808e-01, -2.10575717e-02,\n",
       "        2.43153199e-02, -9.54161700e-02, -3.11457026e-01,  7.42046838e-02,\n",
       "        1.69482095e-01,  3.10206586e-02,  2.40827693e-01,  2.70663893e-01,\n",
       "        1.18675535e-01,  2.67822082e-01,  5.90475900e-02,  4.16961059e-01,\n",
       "       -1.90398138e-01,  8.87595101e-02,  3.96014028e-01,  3.32008533e-01,\n",
       "        1.35090416e-01,  2.66147486e-01, -1.81283047e-01,  1.86768224e-01,\n",
       "        1.98390992e-01,  2.71552731e-01,  1.02938818e-01,  2.07720622e-01,\n",
       "       -8.51655508e-02,  2.63716676e-01,  2.04414229e-01,  2.68772745e-01,\n",
       "       -5.63975056e-02,  1.47488252e-01,  1.91447829e-01, -5.72121339e-02,\n",
       "        1.15066727e-03, -4.22654714e-02,  2.68401181e-01, -1.53704562e-01,\n",
       "        4.94406461e-01,  1.35887160e-01, -1.16938579e-02,  1.19051240e-01,\n",
       "        1.07036304e-01,  2.51286322e-01,  3.70690522e-01,  5.71845828e-02,\n",
       "        2.76903100e-01,  3.05512447e-01,  4.87966535e-02,  2.77737364e-01,\n",
       "       -1.27329960e-01,  2.46367072e-01,  2.34575249e-01,  4.05156701e-01])"
      ]
     },
     "execution_count": 116,
     "metadata": {},
     "output_type": "execute_result"
    }
   ],
   "source": [
    "momentum[-1,:]"
   ]
  },
  {
   "cell_type": "code",
   "execution_count": 115,
   "metadata": {},
   "outputs": [
    {
     "data": {
      "text/plain": [
       "array([ 993.,  184.,  704.,  299.,  124.,   85.,   12.,  803.,  268.,\n",
       "        685.,  427.,   99.,  394.,  239.,  946.,  817.,  723.,  692.,\n",
       "        724.,  729.,  935.,   71.,  758.,  784.,  608.,  746.,  680.,\n",
       "        510.,   11.,  379.,  544.,  924.,  242.,  140.,  151.,  136.,\n",
       "        761.,  575.,  108.,  352.,  539.,  292.,  687.,  861.,  467.,\n",
       "        494.,  259.,  607.,  354.,  516.,  696.,  360.,   19.,  206.,\n",
       "        222.,  262.,  236.,  324.,   96.,  925.,  961.,  875.,   82.,\n",
       "        513.,  775.,  286.,  464.,   52.,  990.,  441.,  804.,  117.,\n",
       "         88.,  874.,  225.,  405.,   59.,  971.,  649.,  585.,  111.,\n",
       "        571.,  936.,  774.,  679.,  355.,  824.,  339.,  188.,  683.,\n",
       "        375.,  969.,  675.,  601.,  278.,  439.,  741.,  116.,  825.,\n",
       "        498.,  827.,  555.,   34.,  346.,  148.,  577.,  213.,  186.,\n",
       "         90.,  789.,  340.,  655.,  418.,  686.,  624.,  752.,   63.,\n",
       "        849.,  483.,  926.,  295.,  313.,  765.,  706.,  986.,  486.,\n",
       "        434.,  567.,  460.,  193.,  818.,  586.,  248.,  720.,  734.,\n",
       "        599.,  518.,  326.,   48.,  273.,  707.,   61.,  697.,  344.,\n",
       "        146.,  898.,   43.,  937.,  424.,  574.,  473.,  447.,  214.,\n",
       "        537.,   16.,  312.,  521.,  477.,  963.,  528.,  832.,  785.,\n",
       "        948.,  941.,  566.,  449.,  977.,    6.,  628.,  472.,  853.,\n",
       "        710.,  829.,  228.,  705.,  794.,  972.,   15.,  653.,  834.,\n",
       "        933.,  515.,  873.,  985.,  791.,   56.,  646.,   77.,  633.,\n",
       "        457.,  356.,   92.,  305.,  132.,  815.,  150.,  962.,  212.,\n",
       "        251.,  307.,  960.,  672.,  884.,  474.,  476.,  370.,  837.,\n",
       "        647.,   10.,  264.,  501.,  958.,  588.,  137.,  750.,  663.,\n",
       "        343.,  444.,  438.,  185.,  415.,  382.,  176.,  713.,  104.,\n",
       "        159.,  709.,   38.,   51.,  808.,  895.,  887.,  397.,  455.,\n",
       "        787.,  811.,  165.,  604.,  327.,   81.,  389.,  535.,  809.,\n",
       "        345.,  207.,  991.,  745.,  170.,  642.,  514.,  119.,  210.,\n",
       "        864.,  899.,  845.,  128.,  361.,  433.,  930.,  187.,  932.,\n",
       "        147.,  127.,  668.,  755.,  871.,  402.,  301.,  568.,  857.,\n",
       "        376.,  695.,  440.,  446.,  391.,  553.,  152.,  902.,  258.,\n",
       "        157.,  594.,  425.,  749.,   26.,  862.,  517.,  835.,  199.,\n",
       "        996.,  257.,  715.,  667.,  282.,  600.,  900.,  708.,  610.,\n",
       "         25.,  403.,  908.,  377.,  407.,  976.,  995.,  911.,  596.,\n",
       "          9.,  106.,  923.,  651.,  813.,  904.,  800.,  445.,  316.,\n",
       "        931.,  552.,  331.,  650.,  453.,  645.,  938.,  781.,  793.,\n",
       "        359.,  238.,   33.,  254.,   20.,  635.,  362.,  450.,  978.,\n",
       "        721.,  454.,  398.,  421.,  329.,  287.,  619.,  235.,  901.,\n",
       "        833.,  939.,  905.,  950.,  468.,   83.,  892.,  983.,  105.,\n",
       "        682.,  732.,   57.,  271.,  550.,  174.,  851.,  855.,  523.,\n",
       "        865.,  130.,  717.,  665.,  605.,  742.,    2.,  337.,  129.,\n",
       "        620.,  927.,  466.,  556.,    4.,  547.,   95.,   46.,   74.,\n",
       "        587.,  863.,  806.,  841.,  694.,  698.,   78.,  957.,  578.,\n",
       "        603.,  179.,  576.,  839.,  593.,  565.,  612.,  194.,  177.,\n",
       "        860.,  893.,   89.,  269.,  819.,   79.,  328.,  280.,  751.,\n",
       "        733.,  275.,  644.,  548.,  929.,  614.,  956.,  989.,  378.,\n",
       "        988.,  180.,  940.,  139.,  499.,  229.,  317.,  246.,  714.,\n",
       "        167.,  411.,  921.,  431.,  293.,  142.,  689.,  798.,   22.,\n",
       "        240.,   36.,  465.,  364.,  260.,  802.,  880.,  138.,  220.,\n",
       "        406.,  502.,  763.,    7.,  966.,  277.,  506.,  664.,  592.,\n",
       "        131.,  392.,  158.,  792.,  826.,  740.,  661.,  241.,  549.,\n",
       "        823.,  673.,  374.,   28.,  350.,  920.,  660.,  135.,  866.,\n",
       "          1.,  422.,  153.,  688.,  209.,  563.,  217.,  788.,  870.,\n",
       "        591.,  351.,  850.,  125.,  306.,  942.,  947.,  583.,   97.,\n",
       "        545.,  143.,   50.,  955.,  342.,  542.,  684.,  197.,  144.,\n",
       "        481.,  812.,  338.,  426.,   68.,  532.,  693.,  728.,  994.,\n",
       "        250.,  570.,  743.,  731.,   31.,  202.,   67.,  878.,  318.,\n",
       "        974.,  597.,  162.,  780.,   23.,  419.,  671.,  334.,  766.,\n",
       "        410.,  166.,  629.,  168.,   60.,  584.,  358.,  141.,   21.,\n",
       "        470.,  626.,  126.,  231.,  471.,  469.,  690.,  221.,  204.,\n",
       "        134.,  881.,  719.,  224.,  478.,  836.,  529.,  296.,  201.,\n",
       "        868.,  658.,  554.,  491.,  959.,  381.,  666.,  738.,  386.,\n",
       "        160.,  541.,  310.,  249.,  639.,   47.,  703.,  727.,  726.,\n",
       "        638.,  463.,  420.,  903.,  981.,  885.,  291.,  764.,   69.,\n",
       "        232.,  980.,   14.,  949.,  540.,  267.,  487.,  786.,  890.,\n",
       "        712.,  245.,  579.,  907.,  311.,  261.,  747.,  821.,  161.,\n",
       "         17.,  767.,  451.,  118.,  534.,  482.,  842.,  284.,  657.,\n",
       "        602.,  383.,  290.,   30.,   55.,  154.,  272.,  332.,  856.,\n",
       "        298.,  992.,  779.,  368.,  770.,  429.,  917.,  423.,  581.,\n",
       "        867.,  623.,  519.,  322.,  648.,  182.,  613.,  756.,   73.,\n",
       "        505.,   37.,  562.,  304.,  915.,  321.,  894.,  987.,  325.,\n",
       "        169.,  659.,  527.,  396.,  912.,  497.,    5.,  944.,  611.,\n",
       "        618.,  107.,  762.,  872.,  848.,  336.,  573.,  227.,  365.,\n",
       "        538.,   91.,   87.,  674.,  493.,  413.,  226.,   75.,   76.,\n",
       "        807.,  928.,  631.,  508.,  495.,  735.,  722.,  103.,  490.,\n",
       "         94.,  843.,  652.,  208.,  367.,  882.,  183.,  954.,  916.,\n",
       "        754.,  357.,  801.,  432.,  276.,  559.,  121.,  475.,  385.,\n",
       "        580.,  442.,   29.,  109.,  244.,  945.,  101.,  641.,  211.,\n",
       "        263.,  790.,  681.,  676.,  716.,  414.,  891.,  120.,  656.,\n",
       "        288.,  341.,  255.,  237.,  906.,  496.,  281.,  773.,  625.,\n",
       "        999.,  964.,  753.,  934.,  335.,  797.,  886.,  844.,  366.,\n",
       "        805.,  560.,  266.,  831.,   53.,  678.,  265.,  654.,  744.,\n",
       "        230.,  622.,  412.,  115.,  810.,  503.,  309.,  670.,  270.,\n",
       "        395.,  533.,  408.,  536.,  820.,  285.,  484.,  300.,  725.,\n",
       "        951.,  404.,   39.,  965.,  443.,  172.,   35.,  110.,  417.,\n",
       "        643.,  606.,  303.,  315.,   65.,  319.,  256.,  189.,  919.,\n",
       "        289.,   44.,  615.,  768.,  909.,   24.,  373.,   54.,  595.,\n",
       "        133.,  507.,  459.,  114.,  253.,  348.,  889.,  546.,   41.,\n",
       "        816.,  854.,  630.,   32.,  461.,  771.,  448.,  400.,  847.,\n",
       "        218.,   18.,  155.,   13.,  609.,  896.,  822.,  234.,  662.,\n",
       "        869.,  216.,  830.,  112.,   84.,  409.,  173.,  349.,  203.,\n",
       "        918.,  783.,  634.,  582.,  551.,  913.,  984.,  759.,  388.,\n",
       "        572.,  164.,  353.,  247.,  859.,  113.,  569.,  531.,  997.,\n",
       "        163.,  700.,  416.,  399.,  737.,  122.,  776.,  699.,  879.,\n",
       "        637.,  702.,  739.,  828.,  219.,  524.,  274.,  888.,  371.,\n",
       "        401.,  175.,  330.,  436.,  509.,   66.,  279.,  100.,  215.,\n",
       "        772.,  846.,  387.,  718.,  701.,  504.,  525.,  522.,  372.,\n",
       "        669.,   40.,   58.,  297.,  192.,  369.,  730.,  561.,  500.,\n",
       "        598.,  943.,  485.,  883.,  799.,  564.,  480.,  452.,  543.,\n",
       "         45.,  877.,  711., 1000.,  430.,  979.,  294.,   86.,  795.,\n",
       "        760.,    3.,  627.,  557.,  479.,   42.,  778.,  437.,  632.,\n",
       "        796.,  782.,  636.,   93.,  492.,  616.,   64.,  380.,  171.,\n",
       "        526.,  748.,  323.,  973.,    8.,  975.,  512.,  363.,  390.,\n",
       "        283.,  852.,   72.,  982.,  462.,  145.,  858.,  590.,  914.,\n",
       "         98.,  967.,  769.,  428.,  302.,  156.,  953.,  530.,  384.,\n",
       "         49.,  910.,  777.,  691.,  897.,  998.,  589.,  393.,  677.,\n",
       "        243.,  191.,  489.,  198.,  617.,   62.,  970.,  558.,   80.,\n",
       "        123.,  458.,  200.,  968.,  347.,  320.,  190.,  520.,  308.,\n",
       "        876.,  205.,  314.,  195.,  838.,  435.,  333.,  840.,  736.,\n",
       "        814.,  196.,  952.,   27.,  456.,  757.,  488.,  511.,  223.,\n",
       "        102.,  621.,  181.,  149.,  640.,  178.,  922.,  233.,  252.,\n",
       "         70.])"
      ]
     },
     "execution_count": 115,
     "metadata": {},
     "output_type": "execute_result"
    }
   ],
   "source": [
    "momentumRank[-1,:]"
   ]
  },
  {
   "cell_type": "code",
   "execution_count": 188,
   "metadata": {},
   "outputs": [
    {
     "ename": "TypingError",
     "evalue": "Failed in nopython mode pipeline (step: nopython frontend)\nInvalid use of Function(<built-in function setitem>) with argument(s) of type(s): (array(float64, 2d, C), (int64, array(int64, 1d, C)), array(float64, 1d, C))\n * parameterized\nIn definition 0:\n    All templates rejected with literals.\nIn definition 1:\n    All templates rejected without literals.\nIn definition 2:\n    All templates rejected with literals.\nIn definition 3:\n    All templates rejected without literals.\nIn definition 4:\n    All templates rejected with literals.\nIn definition 5:\n    All templates rejected without literals.\nIn definition 6:\n    All templates rejected with literals.\nIn definition 7:\n    All templates rejected without literals.\nIn definition 8:\n    NotImplementedError: only one advanced index supported\n    raised from /opt/conda/lib/python3.6/site-packages/numba/typing/arraydecl.py:67\nIn definition 9:\n    NotImplementedError: only one advanced index supported\n    raised from /opt/conda/lib/python3.6/site-packages/numba/typing/arraydecl.py:67\nThis error is usually caused by passing an argument of a type that is unsupported by the named function.\n[1] During: typing of setitem at <ipython-input-187-47780d157ff2> (15)\n\nFile \"<ipython-input-187-47780d157ff2>\", line 15:\ndef priceMomentum2UniverseRelativeRankNumba(momentum,nPositions):\n    <source elided>\n        # based on sorted momentum, determine relative rank\n        momentumRank[t,momentumIndex]=np.arange(nInstruments)+1.0\n        ^\n\nThis is not usually a problem with Numba itself but instead often caused by\nthe use of unsupported features or an issue in resolving types.\n\nTo see Python/NumPy features supported by the latest release of Numba visit:\nhttp://numba.pydata.org/numba-doc/latest/reference/pysupported.html\nand\nhttp://numba.pydata.org/numba-doc/latest/reference/numpysupported.html\n\nFor more information about typing errors and how to debug them visit:\nhttp://numba.pydata.org/numba-doc/latest/user/troubleshoot.html#my-code-doesn-t-compile\n\nIf you think your code should work with Numba, please report the error message\nand traceback, along with a minimal reproducer at:\nhttps://github.com/numba/numba/issues/new\n",
     "output_type": "error",
     "traceback": [
      "\u001b[0;31m---------------------------------------------------------------------------\u001b[0m",
      "\u001b[0;31mTypingError\u001b[0m                               Traceback (most recent call last)",
      "\u001b[0;32m<ipython-input-188-66a404acad03>\u001b[0m in \u001b[0;36m<module>\u001b[0;34m\u001b[0m\n\u001b[0;32m----> 1\u001b[0;31m \u001b[0mget_ipython\u001b[0m\u001b[0;34m(\u001b[0m\u001b[0;34m)\u001b[0m\u001b[0;34m.\u001b[0m\u001b[0mrun_cell_magic\u001b[0m\u001b[0;34m(\u001b[0m\u001b[0;34m'timeit'\u001b[0m\u001b[0;34m,\u001b[0m \u001b[0;34m''\u001b[0m\u001b[0;34m,\u001b[0m \u001b[0;34m'momentumLookback=90\\nnPositions=100\\nmomentum=classicalMomentumPathsNumbaParallel(df.values,momentumLookback)\\n#relativeRankNumba,momentumFlagNumba=priceMomentum2UniverseRelativeRankNumba(momentum,nPositions)\\n\\nrelativeRankNumba=priceMomentum2UniverseRelativeRankNumba(momentum,nPositions)\\n'\u001b[0m\u001b[0;34m)\u001b[0m\u001b[0;34m\u001b[0m\u001b[0;34m\u001b[0m\u001b[0m\n\u001b[0m",
      "\u001b[0;32m/opt/conda/lib/python3.6/site-packages/IPython/core/interactiveshell.py\u001b[0m in \u001b[0;36mrun_cell_magic\u001b[0;34m(self, magic_name, line, cell)\u001b[0m\n\u001b[1;32m   2321\u001b[0m             \u001b[0mmagic_arg_s\u001b[0m \u001b[0;34m=\u001b[0m \u001b[0mself\u001b[0m\u001b[0;34m.\u001b[0m\u001b[0mvar_expand\u001b[0m\u001b[0;34m(\u001b[0m\u001b[0mline\u001b[0m\u001b[0;34m,\u001b[0m \u001b[0mstack_depth\u001b[0m\u001b[0;34m)\u001b[0m\u001b[0;34m\u001b[0m\u001b[0;34m\u001b[0m\u001b[0m\n\u001b[1;32m   2322\u001b[0m             \u001b[0;32mwith\u001b[0m \u001b[0mself\u001b[0m\u001b[0;34m.\u001b[0m\u001b[0mbuiltin_trap\u001b[0m\u001b[0;34m:\u001b[0m\u001b[0;34m\u001b[0m\u001b[0;34m\u001b[0m\u001b[0m\n\u001b[0;32m-> 2323\u001b[0;31m                 \u001b[0mresult\u001b[0m \u001b[0;34m=\u001b[0m \u001b[0mfn\u001b[0m\u001b[0;34m(\u001b[0m\u001b[0mmagic_arg_s\u001b[0m\u001b[0;34m,\u001b[0m \u001b[0mcell\u001b[0m\u001b[0;34m)\u001b[0m\u001b[0;34m\u001b[0m\u001b[0;34m\u001b[0m\u001b[0m\n\u001b[0m\u001b[1;32m   2324\u001b[0m             \u001b[0;32mreturn\u001b[0m \u001b[0mresult\u001b[0m\u001b[0;34m\u001b[0m\u001b[0;34m\u001b[0m\u001b[0m\n\u001b[1;32m   2325\u001b[0m \u001b[0;34m\u001b[0m\u001b[0m\n",
      "\u001b[0;32m<decorator-gen-61>\u001b[0m in \u001b[0;36mtimeit\u001b[0;34m(self, line, cell, local_ns)\u001b[0m\n",
      "\u001b[0;32m/opt/conda/lib/python3.6/site-packages/IPython/core/magic.py\u001b[0m in \u001b[0;36m<lambda>\u001b[0;34m(f, *a, **k)\u001b[0m\n\u001b[1;32m    185\u001b[0m     \u001b[0;31m# but it's overkill for just that one bit of state.\u001b[0m\u001b[0;34m\u001b[0m\u001b[0;34m\u001b[0m\u001b[0;34m\u001b[0m\u001b[0m\n\u001b[1;32m    186\u001b[0m     \u001b[0;32mdef\u001b[0m \u001b[0mmagic_deco\u001b[0m\u001b[0;34m(\u001b[0m\u001b[0marg\u001b[0m\u001b[0;34m)\u001b[0m\u001b[0;34m:\u001b[0m\u001b[0;34m\u001b[0m\u001b[0;34m\u001b[0m\u001b[0m\n\u001b[0;32m--> 187\u001b[0;31m         \u001b[0mcall\u001b[0m \u001b[0;34m=\u001b[0m \u001b[0;32mlambda\u001b[0m \u001b[0mf\u001b[0m\u001b[0;34m,\u001b[0m \u001b[0;34m*\u001b[0m\u001b[0ma\u001b[0m\u001b[0;34m,\u001b[0m \u001b[0;34m**\u001b[0m\u001b[0mk\u001b[0m\u001b[0;34m:\u001b[0m \u001b[0mf\u001b[0m\u001b[0;34m(\u001b[0m\u001b[0;34m*\u001b[0m\u001b[0ma\u001b[0m\u001b[0;34m,\u001b[0m \u001b[0;34m**\u001b[0m\u001b[0mk\u001b[0m\u001b[0;34m)\u001b[0m\u001b[0;34m\u001b[0m\u001b[0;34m\u001b[0m\u001b[0m\n\u001b[0m\u001b[1;32m    188\u001b[0m \u001b[0;34m\u001b[0m\u001b[0m\n\u001b[1;32m    189\u001b[0m         \u001b[0;32mif\u001b[0m \u001b[0mcallable\u001b[0m\u001b[0;34m(\u001b[0m\u001b[0marg\u001b[0m\u001b[0;34m)\u001b[0m\u001b[0;34m:\u001b[0m\u001b[0;34m\u001b[0m\u001b[0;34m\u001b[0m\u001b[0m\n",
      "\u001b[0;32m/opt/conda/lib/python3.6/site-packages/IPython/core/magics/execution.py\u001b[0m in \u001b[0;36mtimeit\u001b[0;34m(self, line, cell, local_ns)\u001b[0m\n\u001b[1;32m   1129\u001b[0m             \u001b[0;32mfor\u001b[0m \u001b[0mindex\u001b[0m \u001b[0;32min\u001b[0m \u001b[0mrange\u001b[0m\u001b[0;34m(\u001b[0m\u001b[0;36m0\u001b[0m\u001b[0;34m,\u001b[0m \u001b[0;36m10\u001b[0m\u001b[0;34m)\u001b[0m\u001b[0;34m:\u001b[0m\u001b[0;34m\u001b[0m\u001b[0;34m\u001b[0m\u001b[0m\n\u001b[1;32m   1130\u001b[0m                 \u001b[0mnumber\u001b[0m \u001b[0;34m=\u001b[0m \u001b[0;36m10\u001b[0m \u001b[0;34m**\u001b[0m \u001b[0mindex\u001b[0m\u001b[0;34m\u001b[0m\u001b[0;34m\u001b[0m\u001b[0m\n\u001b[0;32m-> 1131\u001b[0;31m                 \u001b[0mtime_number\u001b[0m \u001b[0;34m=\u001b[0m \u001b[0mtimer\u001b[0m\u001b[0;34m.\u001b[0m\u001b[0mtimeit\u001b[0m\u001b[0;34m(\u001b[0m\u001b[0mnumber\u001b[0m\u001b[0;34m)\u001b[0m\u001b[0;34m\u001b[0m\u001b[0;34m\u001b[0m\u001b[0m\n\u001b[0m\u001b[1;32m   1132\u001b[0m                 \u001b[0;32mif\u001b[0m \u001b[0mtime_number\u001b[0m \u001b[0;34m>=\u001b[0m \u001b[0;36m0.2\u001b[0m\u001b[0;34m:\u001b[0m\u001b[0;34m\u001b[0m\u001b[0;34m\u001b[0m\u001b[0m\n\u001b[1;32m   1133\u001b[0m                     \u001b[0;32mbreak\u001b[0m\u001b[0;34m\u001b[0m\u001b[0;34m\u001b[0m\u001b[0m\n",
      "\u001b[0;32m/opt/conda/lib/python3.6/site-packages/IPython/core/magics/execution.py\u001b[0m in \u001b[0;36mtimeit\u001b[0;34m(self, number)\u001b[0m\n\u001b[1;32m    158\u001b[0m         \u001b[0mgc\u001b[0m\u001b[0;34m.\u001b[0m\u001b[0mdisable\u001b[0m\u001b[0;34m(\u001b[0m\u001b[0;34m)\u001b[0m\u001b[0;34m\u001b[0m\u001b[0;34m\u001b[0m\u001b[0m\n\u001b[1;32m    159\u001b[0m         \u001b[0;32mtry\u001b[0m\u001b[0;34m:\u001b[0m\u001b[0;34m\u001b[0m\u001b[0;34m\u001b[0m\u001b[0m\n\u001b[0;32m--> 160\u001b[0;31m             \u001b[0mtiming\u001b[0m \u001b[0;34m=\u001b[0m \u001b[0mself\u001b[0m\u001b[0;34m.\u001b[0m\u001b[0minner\u001b[0m\u001b[0;34m(\u001b[0m\u001b[0mit\u001b[0m\u001b[0;34m,\u001b[0m \u001b[0mself\u001b[0m\u001b[0;34m.\u001b[0m\u001b[0mtimer\u001b[0m\u001b[0;34m)\u001b[0m\u001b[0;34m\u001b[0m\u001b[0;34m\u001b[0m\u001b[0m\n\u001b[0m\u001b[1;32m    161\u001b[0m         \u001b[0;32mfinally\u001b[0m\u001b[0;34m:\u001b[0m\u001b[0;34m\u001b[0m\u001b[0;34m\u001b[0m\u001b[0m\n\u001b[1;32m    162\u001b[0m             \u001b[0;32mif\u001b[0m \u001b[0mgcold\u001b[0m\u001b[0;34m:\u001b[0m\u001b[0;34m\u001b[0m\u001b[0;34m\u001b[0m\u001b[0m\n",
      "\u001b[0;32m<magic-timeit>\u001b[0m in \u001b[0;36minner\u001b[0;34m(_it, _timer)\u001b[0m\n",
      "\u001b[0;32m/opt/conda/lib/python3.6/site-packages/numba/dispatcher.py\u001b[0m in \u001b[0;36m_compile_for_args\u001b[0;34m(self, *args, **kws)\u001b[0m\n\u001b[1;32m    374\u001b[0m                 \u001b[0me\u001b[0m\u001b[0;34m.\u001b[0m\u001b[0mpatch_message\u001b[0m\u001b[0;34m(\u001b[0m\u001b[0mmsg\u001b[0m\u001b[0;34m)\u001b[0m\u001b[0;34m\u001b[0m\u001b[0;34m\u001b[0m\u001b[0m\n\u001b[1;32m    375\u001b[0m \u001b[0;34m\u001b[0m\u001b[0m\n\u001b[0;32m--> 376\u001b[0;31m             \u001b[0merror_rewrite\u001b[0m\u001b[0;34m(\u001b[0m\u001b[0me\u001b[0m\u001b[0;34m,\u001b[0m \u001b[0;34m'typing'\u001b[0m\u001b[0;34m)\u001b[0m\u001b[0;34m\u001b[0m\u001b[0;34m\u001b[0m\u001b[0m\n\u001b[0m\u001b[1;32m    377\u001b[0m         \u001b[0;32mexcept\u001b[0m \u001b[0merrors\u001b[0m\u001b[0;34m.\u001b[0m\u001b[0mUnsupportedError\u001b[0m \u001b[0;32mas\u001b[0m \u001b[0me\u001b[0m\u001b[0;34m:\u001b[0m\u001b[0;34m\u001b[0m\u001b[0;34m\u001b[0m\u001b[0m\n\u001b[1;32m    378\u001b[0m             \u001b[0;31m# Something unsupported is present in the user code, add help info\u001b[0m\u001b[0;34m\u001b[0m\u001b[0;34m\u001b[0m\u001b[0;34m\u001b[0m\u001b[0m\n",
      "\u001b[0;32m/opt/conda/lib/python3.6/site-packages/numba/dispatcher.py\u001b[0m in \u001b[0;36merror_rewrite\u001b[0;34m(e, issue_type)\u001b[0m\n\u001b[1;32m    341\u001b[0m                 \u001b[0;32mraise\u001b[0m \u001b[0me\u001b[0m\u001b[0;34m\u001b[0m\u001b[0;34m\u001b[0m\u001b[0m\n\u001b[1;32m    342\u001b[0m             \u001b[0;32melse\u001b[0m\u001b[0;34m:\u001b[0m\u001b[0;34m\u001b[0m\u001b[0;34m\u001b[0m\u001b[0m\n\u001b[0;32m--> 343\u001b[0;31m                 \u001b[0mreraise\u001b[0m\u001b[0;34m(\u001b[0m\u001b[0mtype\u001b[0m\u001b[0;34m(\u001b[0m\u001b[0me\u001b[0m\u001b[0;34m)\u001b[0m\u001b[0;34m,\u001b[0m \u001b[0me\u001b[0m\u001b[0;34m,\u001b[0m \u001b[0;32mNone\u001b[0m\u001b[0;34m)\u001b[0m\u001b[0;34m\u001b[0m\u001b[0;34m\u001b[0m\u001b[0m\n\u001b[0m\u001b[1;32m    344\u001b[0m \u001b[0;34m\u001b[0m\u001b[0m\n\u001b[1;32m    345\u001b[0m         \u001b[0margtypes\u001b[0m \u001b[0;34m=\u001b[0m \u001b[0;34m[\u001b[0m\u001b[0;34m]\u001b[0m\u001b[0;34m\u001b[0m\u001b[0;34m\u001b[0m\u001b[0m\n",
      "\u001b[0;32m/opt/conda/lib/python3.6/site-packages/numba/six.py\u001b[0m in \u001b[0;36mreraise\u001b[0;34m(tp, value, tb)\u001b[0m\n\u001b[1;32m    656\u001b[0m             \u001b[0mvalue\u001b[0m \u001b[0;34m=\u001b[0m \u001b[0mtp\u001b[0m\u001b[0;34m(\u001b[0m\u001b[0;34m)\u001b[0m\u001b[0;34m\u001b[0m\u001b[0;34m\u001b[0m\u001b[0m\n\u001b[1;32m    657\u001b[0m         \u001b[0;32mif\u001b[0m \u001b[0mvalue\u001b[0m\u001b[0;34m.\u001b[0m\u001b[0m__traceback__\u001b[0m \u001b[0;32mis\u001b[0m \u001b[0;32mnot\u001b[0m \u001b[0mtb\u001b[0m\u001b[0;34m:\u001b[0m\u001b[0;34m\u001b[0m\u001b[0;34m\u001b[0m\u001b[0m\n\u001b[0;32m--> 658\u001b[0;31m             \u001b[0;32mraise\u001b[0m \u001b[0mvalue\u001b[0m\u001b[0;34m.\u001b[0m\u001b[0mwith_traceback\u001b[0m\u001b[0;34m(\u001b[0m\u001b[0mtb\u001b[0m\u001b[0;34m)\u001b[0m\u001b[0;34m\u001b[0m\u001b[0;34m\u001b[0m\u001b[0m\n\u001b[0m\u001b[1;32m    659\u001b[0m         \u001b[0;32mraise\u001b[0m \u001b[0mvalue\u001b[0m\u001b[0;34m\u001b[0m\u001b[0;34m\u001b[0m\u001b[0m\n\u001b[1;32m    660\u001b[0m \u001b[0;34m\u001b[0m\u001b[0m\n",
      "\u001b[0;31mTypingError\u001b[0m: Failed in nopython mode pipeline (step: nopython frontend)\nInvalid use of Function(<built-in function setitem>) with argument(s) of type(s): (array(float64, 2d, C), (int64, array(int64, 1d, C)), array(float64, 1d, C))\n * parameterized\nIn definition 0:\n    All templates rejected with literals.\nIn definition 1:\n    All templates rejected without literals.\nIn definition 2:\n    All templates rejected with literals.\nIn definition 3:\n    All templates rejected without literals.\nIn definition 4:\n    All templates rejected with literals.\nIn definition 5:\n    All templates rejected without literals.\nIn definition 6:\n    All templates rejected with literals.\nIn definition 7:\n    All templates rejected without literals.\nIn definition 8:\n    NotImplementedError: only one advanced index supported\n    raised from /opt/conda/lib/python3.6/site-packages/numba/typing/arraydecl.py:67\nIn definition 9:\n    NotImplementedError: only one advanced index supported\n    raised from /opt/conda/lib/python3.6/site-packages/numba/typing/arraydecl.py:67\nThis error is usually caused by passing an argument of a type that is unsupported by the named function.\n[1] During: typing of setitem at <ipython-input-187-47780d157ff2> (15)\n\nFile \"<ipython-input-187-47780d157ff2>\", line 15:\ndef priceMomentum2UniverseRelativeRankNumba(momentum,nPositions):\n    <source elided>\n        # based on sorted momentum, determine relative rank\n        momentumRank[t,momentumIndex]=np.arange(nInstruments)+1.0\n        ^\n\nThis is not usually a problem with Numba itself but instead often caused by\nthe use of unsupported features or an issue in resolving types.\n\nTo see Python/NumPy features supported by the latest release of Numba visit:\nhttp://numba.pydata.org/numba-doc/latest/reference/pysupported.html\nand\nhttp://numba.pydata.org/numba-doc/latest/reference/numpysupported.html\n\nFor more information about typing errors and how to debug them visit:\nhttp://numba.pydata.org/numba-doc/latest/user/troubleshoot.html#my-code-doesn-t-compile\n\nIf you think your code should work with Numba, please report the error message\nand traceback, along with a minimal reproducer at:\nhttps://github.com/numba/numba/issues/new\n"
     ]
    }
   ],
   "source": [
    "%%timeit \n",
    "momentumLookback=90\n",
    "nPositions=100\n",
    "momentum=classicalMomentumPathsNumbaParallel(df.values,momentumLookback)\n",
    "#relativeRankNumba,momentumFlagNumba=priceMomentum2UniverseRelativeRankNumba(momentum,nPositions)\n",
    "\n",
    "relativeRankNumba=priceMomentum2UniverseRelativeRankNumba(momentum,nPositions)\n"
   ]
  },
  {
   "cell_type": "code",
   "execution_count": null,
   "metadata": {},
   "outputs": [],
   "source": [
    "%%timeit \n",
    "momentumLookback=90\n",
    "nPositions=100\n",
    "momentum=classicalMomentumPathsNumbaParallel(df.values,momentumLookback)\n",
    "relativeRank,momentumFlag=priceMomentum2UniverseRelativeRankNumbaParallel(momentum,nPositions)"
   ]
  },
  {
   "cell_type": "code",
   "execution_count": 192,
   "metadata": {},
   "outputs": [
    {
     "name": "stdout",
     "output_type": "stream",
     "text": [
      "249 ms ± 2.42 ms per loop (mean ± std. dev. of 7 runs, 1 loop each)\n"
     ]
    }
   ],
   "source": [
    "%%timeit\n",
    "emaLookback=200\n",
    "df.ewm(span=emaLookback,min_periods=0,ignore_na=True).mean()"
   ]
  },
  {
   "cell_type": "code",
   "execution_count": 88,
   "metadata": {},
   "outputs": [
    {
     "name": "stdout",
     "output_type": "stream",
     "text": [
      "3.78 s ± 14.9 ms per loop (mean ± std. dev. of 7 runs, 1 loop each)\n"
     ]
    }
   ],
   "source": [
    "%%timeit \n",
    "emaLookback=200\n",
    "emaPathsNumpy(df.values,emaLookback)\n"
   ]
  },
  {
   "cell_type": "code",
   "execution_count": 89,
   "metadata": {},
   "outputs": [
    {
     "name": "stdout",
     "output_type": "stream",
     "text": [
      "22.5 ms ± 270 µs per loop (mean ± std. dev. of 7 runs, 1 loop each)\n"
     ]
    }
   ],
   "source": [
    "%%timeit \n",
    "emaLookback=200\n",
    "emaPathsNumba(df.values,emaLookback)\n"
   ]
  },
  {
   "cell_type": "code",
   "execution_count": 90,
   "metadata": {},
   "outputs": [
    {
     "name": "stdout",
     "output_type": "stream",
     "text": [
      "6.27 ms ± 606 µs per loop (mean ± std. dev. of 7 runs, 1 loop each)\n"
     ]
    }
   ],
   "source": [
    "%%timeit \n",
    "emaLookback=200\n",
    "emaPathsNumbaParallel(df.values,emaLookback)\n"
   ]
  },
  {
   "cell_type": "code",
   "execution_count": 222,
   "metadata": {},
   "outputs": [
    {
     "data": {
      "text/plain": [
       "True"
      ]
     },
     "execution_count": 222,
     "metadata": {},
     "output_type": "execute_result"
    }
   ],
   "source": [
    "emaLookback=200\n",
    "ema_1=df.ewm(span=emaLookback,min_periods=emaLookback,ignore_na=True).mean()\n",
    "ema_3=emaPathsNumpy(df.values,emaLookback)\n",
    "ema_2=emaPathsNumbaParallel(df.values,emaLookback)\n",
    "np.all(ema_3==ema_2)"
   ]
  },
  {
   "cell_type": "code",
   "execution_count": 223,
   "metadata": {},
   "outputs": [
    {
     "data": {
      "text/plain": [
       "<matplotlib.axes._subplots.AxesSubplot at 0x7f76209bf198>"
      ]
     },
     "execution_count": 223,
     "metadata": {},
     "output_type": "execute_result"
    },
    {
     "data": {
      "image/png": "[encoded data removed]",
      "text/plain": [
       "<Figure size 432x288 with 1 Axes>"
      ]
     },
     "metadata": {
      "needs_background": "light"
     },
     "output_type": "display_data"
    }
   ],
   "source": [
    "pd.DataFrame(ema_1.values-ema_2).dropna().plot(legend=False)"
   ]
  },
  {
   "cell_type": "code",
   "execution_count": 221,
   "metadata": {},
   "outputs": [
    {
     "data": {
      "text/plain": [
       "<matplotlib.axes._subplots.AxesSubplot at 0x7f762146b208>"
      ]
     },
     "execution_count": 221,
     "metadata": {},
     "output_type": "execute_result"
    },
    {
     "data": {
      "image/png": "[encoded data removed]",
      "text/plain": [
       "<Figure size 432x288 with 1 Axes>"
      ]
     },
     "metadata": {
      "needs_background": "light"
     },
     "output_type": "display_data"
    }
   ],
   "source": [
    "pd.DataFrame(ema_3-ema_2).dropna().plot(legend=False)"
   ]
  },
  {
   "cell_type": "code",
   "execution_count": null,
   "metadata": {},
   "outputs": [],
   "source": []
  },
  {
   "cell_type": "code",
   "execution_count": null,
   "metadata": {},
   "outputs": [],
   "source": []
  },
  {
   "cell_type": "code",
   "execution_count": 34,
   "metadata": {},
   "outputs": [
    {
     "name": "stdout",
     "output_type": "stream",
     "text": [
      "14.7 ms ± 116 µs per loop (mean ± std. dev. of 7 runs, 100 loops each)\n"
     ]
    }
   ],
   "source": [
    "%%timeit\n",
    "momentumLookback=90\n",
    "# compute momentum\n",
    "trendDf.rolling(center=False,window=momentumLookback).apply(func=price2ClassicalMomentum,\n",
    "    raw=True)"
   ]
  },
  {
   "cell_type": "code",
   "execution_count": null,
   "metadata": {},
   "outputs": [],
   "source": [
    "%%timeit\n",
    "momentumLookback=90\n",
    "\n"
   ]
  },
  {
   "cell_type": "code",
   "execution_count": 35,
   "metadata": {},
   "outputs": [],
   "source": [
    "#\n",
    "momentumLookback=90\n",
    "#\n",
    "trendMomentum=trendDf.rolling(center=False,window=momentumLookback).apply(func=price2ClassicalMomentum,\n",
    "    raw=True)"
   ]
  },
  {
   "cell_type": "code",
   "execution_count": 36,
   "metadata": {},
   "outputs": [
    {
     "data": {
      "text/plain": [
       "<matplotlib.axes._subplots.AxesSubplot at 0x7f76d1280b38>"
      ]
     },
     "execution_count": 36,
     "metadata": {},
     "output_type": "execute_result"
    },
    {
     "data": {
      "image/png": "[encoded data removed]",
      "text/plain": [
       "<Figure size 432x288 with 1 Axes>"
      ]
     },
     "metadata": {
      "needs_background": "light"
     },
     "output_type": "display_data"
    }
   ],
   "source": [
    "trendDf.plot(legend=False)"
   ]
  },
  {
   "cell_type": "code",
   "execution_count": 37,
   "metadata": {},
   "outputs": [
    {
     "data": {
      "text/plain": [
       "<matplotlib.axes._subplots.AxesSubplot at 0x7f76d1272da0>"
      ]
     },
     "execution_count": 37,
     "metadata": {},
     "output_type": "execute_result"
    },
    {
     "data": {
      "image/png": "[encoded data removed]",
      "text/plain": [
       "<Figure size 432x288 with 1 Axes>"
      ]
     },
     "metadata": {
      "needs_background": "light"
     },
     "output_type": "display_data"
    }
   ],
   "source": [
    "trendDf.apply(lambda x: np.log(x)).plot(legend=False)"
   ]
  },
  {
   "cell_type": "code",
   "execution_count": 38,
   "metadata": {},
   "outputs": [
    {
     "data": {
      "text/plain": [
       "<matplotlib.axes._subplots.AxesSubplot at 0x7f76d1160e48>"
      ]
     },
     "execution_count": 38,
     "metadata": {},
     "output_type": "execute_result"
    },
    {
     "data": {
      "image/png": "[encoded data removed]",
      "text/plain": [
       "<Figure size 432x288 with 1 Axes>"
      ]
     },
     "metadata": {
      "needs_background": "light"
     },
     "output_type": "display_data"
    }
   ],
   "source": [
    "trendMomentum.plot(legend=False)"
   ]
  },
  {
   "cell_type": "code",
   "execution_count": 39,
   "metadata": {},
   "outputs": [
    {
     "data": {
      "text/plain": [
       "<matplotlib.axes._subplots.AxesSubplot at 0x7f76d1145ac8>"
      ]
     },
     "execution_count": 39,
     "metadata": {},
     "output_type": "execute_result"
    },
    {
     "data": {
      "image/png": "[encoded data removed]",
      "text/plain": [
       "<Figure size 432x288 with 1 Axes>"
      ]
     },
     "metadata": {
      "needs_background": "light"
     },
     "output_type": "display_data"
    }
   ],
   "source": [
    "df.plot(legend=False)"
   ]
  },
  {
   "cell_type": "code",
   "execution_count": 40,
   "metadata": {},
   "outputs": [
    {
     "data": {
      "text/plain": [
       "<matplotlib.axes._subplots.AxesSubplot at 0x7f76d06c7ba8>"
      ]
     },
     "execution_count": 40,
     "metadata": {},
     "output_type": "execute_result"
    },
    {
     "data": {
      "image/png": "[encoded data removed]",
      "text/plain": [
       "<Figure size 432x288 with 1 Axes>"
      ]
     },
     "metadata": {
      "needs_background": "light"
     },
     "output_type": "display_data"
    }
   ],
   "source": [
    "df.apply(lambda x : np.log(x)).plot(legend=False)"
   ]
  },
  {
   "cell_type": "code",
   "execution_count": 41,
   "metadata": {},
   "outputs": [
    {
     "data": {
      "text/plain": [
       "<matplotlib.axes._subplots.AxesSubplot at 0x7f76cbc7d908>"
      ]
     },
     "execution_count": 41,
     "metadata": {},
     "output_type": "execute_result"
    },
    {
     "data": {
      "image/png": "[encoded data removed]",
      "text/plain": [
       "<Figure size 432x288 with 1 Axes>"
      ]
     },
     "metadata": {
      "needs_background": "light"
     },
     "output_type": "display_data"
    }
   ],
   "source": [
    "momentumDf.plot(legend=False)"
   ]
  },
  {
   "cell_type": "code",
   "execution_count": 42,
   "metadata": {},
   "outputs": [],
   "source": [
    "momentumPercentileDf=momentumDf.quantile([.1, .5,.9],axis=1).T"
   ]
  },
  {
   "cell_type": "code",
   "execution_count": 43,
   "metadata": {},
   "outputs": [
    {
     "data": {
      "text/plain": [
       "<matplotlib.axes._subplots.AxesSubplot at 0x7f76caf10c88>"
      ]
     },
     "execution_count": 43,
     "metadata": {},
     "output_type": "execute_result"
    },
    {
     "data": {
      "image/png": "[encoded data removed]",
      "text/plain": [
       "<Figure size 432x288 with 1 Axes>"
      ]
     },
     "metadata": {
      "needs_background": "light"
     },
     "output_type": "display_data"
    }
   ],
   "source": [
    "momentumPercentileDf.plot()"
   ]
  },
  {
   "cell_type": "code",
   "execution_count": 44,
   "metadata": {},
   "outputs": [
    {
     "data": {
      "text/plain": [
       "0.1   -0.112104\n",
       "0.5    0.098134\n",
       "0.9    0.355496\n",
       "dtype: float64"
      ]
     },
     "execution_count": 44,
     "metadata": {},
     "output_type": "execute_result"
    }
   ],
   "source": [
    "momentumPercentileDf.mean()"
   ]
  },
  {
   "cell_type": "code",
   "execution_count": 45,
   "metadata": {},
   "outputs": [],
   "source": [
    "percentileDf=df.quantile([.1, .5,.9],axis=1).T"
   ]
  },
  {
   "cell_type": "code",
   "execution_count": 46,
   "metadata": {},
   "outputs": [
    {
     "data": {
      "text/plain": [
       "0.10604712107505132"
      ]
     },
     "execution_count": 46,
     "metadata": {},
     "output_type": "execute_result"
    }
   ],
   "source": [
    "((percentileDf[0.5].values[90]/percentileDf[0.5].values[0])**(252/momentumLookback))-1"
   ]
  },
  {
   "cell_type": "code",
   "execution_count": 47,
   "metadata": {},
   "outputs": [
    {
     "data": {
      "text/plain": [
       "0.10602483264753992"
      ]
     },
     "execution_count": 47,
     "metadata": {},
     "output_type": "execute_result"
    }
   ],
   "source": [
    "((1+((np.log(percentileDf[0.5].values[90])-np.log(percentileDf[0.5].values[0]))/momentumLookback))**252.0)-1"
   ]
  },
  {
   "cell_type": "code",
   "execution_count": 48,
   "metadata": {},
   "outputs": [],
   "source": [
    "medianMomentum=percentileDf[0.5].rolling(center=False,window=momentumLookback).apply(func=price2ClassicalMomentum,\n",
    "    raw=True)"
   ]
  },
  {
   "cell_type": "code",
   "execution_count": 49,
   "metadata": {},
   "outputs": [
    {
     "data": {
      "text/plain": [
       "<matplotlib.axes._subplots.AxesSubplot at 0x7f76caf6b390>"
      ]
     },
     "execution_count": 49,
     "metadata": {},
     "output_type": "execute_result"
    },
    {
     "data": {
      "image/png": "[encoded data removed]",
      "text/plain": [
       "<Figure size 432x288 with 1 Axes>"
      ]
     },
     "metadata": {
      "needs_background": "light"
     },
     "output_type": "display_data"
    }
   ],
   "source": [
    "medianMomentum.plot(legend=False)"
   ]
  },
  {
   "cell_type": "code",
   "execution_count": null,
   "metadata": {},
   "outputs": [],
   "source": []
  },
  {
   "cell_type": "code",
   "execution_count": null,
   "metadata": {},
   "outputs": [],
   "source": []
  },
  {
   "cell_type": "code",
   "execution_count": null,
   "metadata": {},
   "outputs": [],
   "source": []
  },
  {
   "cell_type": "code",
   "execution_count": null,
   "metadata": {},
   "outputs": [],
   "source": []
  },
  {
   "cell_type": "code",
   "execution_count": 242,
   "metadata": {},
   "outputs": [],
   "source": [
    "#import dask.dataframe as dd"
   ]
  },
  {
   "cell_type": "code",
   "execution_count": 243,
   "metadata": {},
   "outputs": [],
   "source": [
    "#%%timeit\n",
    "#nPartitions=252*10\n",
    "#momentumLookback=90\n",
    "#dA = dd.from_pandas(df, npartitions=nPartitions)\n",
    "#dA.rolling(window=momentumLookback, center=False).apply(func=price2ClassicalMomentum2,\n",
    "#    raw=True).compute()\n"
   ]
  },
  {
   "cell_type": "code",
   "execution_count": 244,
   "metadata": {},
   "outputs": [],
   "source": [
    "#nPartitions=90\n",
    "#momentumLookback=90\n",
    "#dA = dd.from_pandas(df, npartitions=nPartitions)\n",
    "#priceMomentum=dA.rolling(window=momentumLookback, center=False).apply(func=price2ClassicalMomentum2,\n",
    "#    raw=True)"
   ]
  },
  {
   "cell_type": "code",
   "execution_count": null,
   "metadata": {},
   "outputs": [],
   "source": []
  },
  {
   "cell_type": "code",
   "execution_count": 245,
   "metadata": {},
   "outputs": [],
   "source": [
    "#priceMomentum.to_pandas.plot()"
   ]
  },
  {
   "cell_type": "code",
   "execution_count": null,
   "metadata": {},
   "outputs": [],
   "source": []
  },
  {
   "cell_type": "code",
   "execution_count": null,
   "metadata": {},
   "outputs": [],
   "source": [
    "\n"
   ]
  },
  {
   "cell_type": "code",
   "execution_count": null,
   "metadata": {},
   "outputs": [],
   "source": []
  },
  {
   "cell_type": "code",
   "execution_count": null,
   "metadata": {},
   "outputs": [],
   "source": []
  },
  {
   "cell_type": "code",
   "execution_count": null,
   "metadata": {},
   "outputs": [],
   "source": []
  },
  {
   "cell_type": "code",
   "execution_count": null,
   "metadata": {},
   "outputs": [],
   "source": []
  },
  {
   "cell_type": "code",
   "execution_count": null,
   "metadata": {},
   "outputs": [],
   "source": []
  },
  {
   "cell_type": "code",
   "execution_count": null,
   "metadata": {},
   "outputs": [],
   "source": [
    "\n"
   ]
  }
 ],
 "metadata": {
  "kernelspec": {
   "display_name": "Python 3",
   "language": "python",
   "name": "python3"
  },
  "language_info": {
   "codemirror_mode": {
    "name": "ipython",
    "version": 3
   },
   "file_extension": ".py",
   "mimetype": "text/x-python",
   "name": "python",
   "nbconvert_exporter": "python",
   "pygments_lexer": "ipython3",
   "version": "3.7.0"
  }
 },
 "nbformat": 4,
 "nbformat_minor": 2
}
